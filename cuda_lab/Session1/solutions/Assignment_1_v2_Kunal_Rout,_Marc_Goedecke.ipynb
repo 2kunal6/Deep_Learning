{
  "nbformat": 4,
  "nbformat_minor": 0,
  "metadata": {
    "kernelspec": {
      "display_name": "Python 3",
      "language": "python",
      "name": "python3"
    },
    "language_info": {
      "codemirror_mode": {
        "name": "ipython",
        "version": 3
      },
      "file_extension": ".py",
      "mimetype": "text/x-python",
      "name": "python",
      "nbconvert_exporter": "python",
      "pygments_lexer": "ipython3",
      "version": "3.7.7"
    },
    "colab": {
      "name": "Assignment_1_v2_Kunal_Rout,_Marc_Goedecke.ipynb",
      "provenance": [],
      "collapsed_sections": []
    },
    "widgets": {
      "application/vnd.jupyter.widget-state+json": {
        "9bcbf86754894e3daf992c7793d3e21a": {
          "model_module": "@jupyter-widgets/controls",
          "model_name": "HBoxModel",
          "state": {
            "_view_name": "HBoxView",
            "_dom_classes": [],
            "_model_name": "HBoxModel",
            "_view_module": "@jupyter-widgets/controls",
            "_model_module_version": "1.5.0",
            "_view_count": null,
            "_view_module_version": "1.5.0",
            "box_style": "",
            "layout": "IPY_MODEL_163ceb06ef214e209fb252e6c14da8f1",
            "_model_module": "@jupyter-widgets/controls",
            "children": [
              "IPY_MODEL_e7195e9d22ff4a4c95dbbf3629d7534b",
              "IPY_MODEL_d2f2a1ac1c614ca193837fc5d7861ddf"
            ]
          }
        },
        "163ceb06ef214e209fb252e6c14da8f1": {
          "model_module": "@jupyter-widgets/base",
          "model_name": "LayoutModel",
          "state": {
            "_view_name": "LayoutView",
            "grid_template_rows": null,
            "right": null,
            "justify_content": null,
            "_view_module": "@jupyter-widgets/base",
            "overflow": null,
            "_model_module_version": "1.2.0",
            "_view_count": null,
            "flex_flow": null,
            "width": null,
            "min_width": null,
            "border": null,
            "align_items": null,
            "bottom": null,
            "_model_module": "@jupyter-widgets/base",
            "top": null,
            "grid_column": null,
            "overflow_y": null,
            "overflow_x": null,
            "grid_auto_flow": null,
            "grid_area": null,
            "grid_template_columns": null,
            "flex": null,
            "_model_name": "LayoutModel",
            "justify_items": null,
            "grid_row": null,
            "max_height": null,
            "align_content": null,
            "visibility": null,
            "align_self": null,
            "height": null,
            "min_height": null,
            "padding": null,
            "grid_auto_rows": null,
            "grid_gap": null,
            "max_width": null,
            "order": null,
            "_view_module_version": "1.2.0",
            "grid_template_areas": null,
            "object_position": null,
            "object_fit": null,
            "grid_auto_columns": null,
            "margin": null,
            "display": null,
            "left": null
          }
        },
        "e7195e9d22ff4a4c95dbbf3629d7534b": {
          "model_module": "@jupyter-widgets/controls",
          "model_name": "FloatProgressModel",
          "state": {
            "_view_name": "ProgressView",
            "style": "IPY_MODEL_95ff6071051245068d694c6582b6547a",
            "_dom_classes": [],
            "description": "",
            "_model_name": "FloatProgressModel",
            "bar_style": "success",
            "max": 1,
            "_view_module": "@jupyter-widgets/controls",
            "_model_module_version": "1.5.0",
            "value": 1,
            "_view_count": null,
            "_view_module_version": "1.5.0",
            "orientation": "horizontal",
            "min": 0,
            "description_tooltip": null,
            "_model_module": "@jupyter-widgets/controls",
            "layout": "IPY_MODEL_985bb548d24d48cc8bce3b8d2ca7cf36"
          }
        },
        "d2f2a1ac1c614ca193837fc5d7861ddf": {
          "model_module": "@jupyter-widgets/controls",
          "model_name": "HTMLModel",
          "state": {
            "_view_name": "HTMLView",
            "style": "IPY_MODEL_18e714cf5a5d406e8543dba535f29a29",
            "_dom_classes": [],
            "description": "",
            "_model_name": "HTMLModel",
            "placeholder": "​",
            "_view_module": "@jupyter-widgets/controls",
            "_model_module_version": "1.5.0",
            "value": " 9920512/? [00:01&lt;00:00, 6882235.22it/s]",
            "_view_count": null,
            "_view_module_version": "1.5.0",
            "description_tooltip": null,
            "_model_module": "@jupyter-widgets/controls",
            "layout": "IPY_MODEL_1e0ed7e9ce38486abf90a66deaed307d"
          }
        },
        "95ff6071051245068d694c6582b6547a": {
          "model_module": "@jupyter-widgets/controls",
          "model_name": "ProgressStyleModel",
          "state": {
            "_view_name": "StyleView",
            "_model_name": "ProgressStyleModel",
            "description_width": "initial",
            "_view_module": "@jupyter-widgets/base",
            "_model_module_version": "1.5.0",
            "_view_count": null,
            "_view_module_version": "1.2.0",
            "bar_color": null,
            "_model_module": "@jupyter-widgets/controls"
          }
        },
        "985bb548d24d48cc8bce3b8d2ca7cf36": {
          "model_module": "@jupyter-widgets/base",
          "model_name": "LayoutModel",
          "state": {
            "_view_name": "LayoutView",
            "grid_template_rows": null,
            "right": null,
            "justify_content": null,
            "_view_module": "@jupyter-widgets/base",
            "overflow": null,
            "_model_module_version": "1.2.0",
            "_view_count": null,
            "flex_flow": null,
            "width": null,
            "min_width": null,
            "border": null,
            "align_items": null,
            "bottom": null,
            "_model_module": "@jupyter-widgets/base",
            "top": null,
            "grid_column": null,
            "overflow_y": null,
            "overflow_x": null,
            "grid_auto_flow": null,
            "grid_area": null,
            "grid_template_columns": null,
            "flex": null,
            "_model_name": "LayoutModel",
            "justify_items": null,
            "grid_row": null,
            "max_height": null,
            "align_content": null,
            "visibility": null,
            "align_self": null,
            "height": null,
            "min_height": null,
            "padding": null,
            "grid_auto_rows": null,
            "grid_gap": null,
            "max_width": null,
            "order": null,
            "_view_module_version": "1.2.0",
            "grid_template_areas": null,
            "object_position": null,
            "object_fit": null,
            "grid_auto_columns": null,
            "margin": null,
            "display": null,
            "left": null
          }
        },
        "18e714cf5a5d406e8543dba535f29a29": {
          "model_module": "@jupyter-widgets/controls",
          "model_name": "DescriptionStyleModel",
          "state": {
            "_view_name": "StyleView",
            "_model_name": "DescriptionStyleModel",
            "description_width": "",
            "_view_module": "@jupyter-widgets/base",
            "_model_module_version": "1.5.0",
            "_view_count": null,
            "_view_module_version": "1.2.0",
            "_model_module": "@jupyter-widgets/controls"
          }
        },
        "1e0ed7e9ce38486abf90a66deaed307d": {
          "model_module": "@jupyter-widgets/base",
          "model_name": "LayoutModel",
          "state": {
            "_view_name": "LayoutView",
            "grid_template_rows": null,
            "right": null,
            "justify_content": null,
            "_view_module": "@jupyter-widgets/base",
            "overflow": null,
            "_model_module_version": "1.2.0",
            "_view_count": null,
            "flex_flow": null,
            "width": null,
            "min_width": null,
            "border": null,
            "align_items": null,
            "bottom": null,
            "_model_module": "@jupyter-widgets/base",
            "top": null,
            "grid_column": null,
            "overflow_y": null,
            "overflow_x": null,
            "grid_auto_flow": null,
            "grid_area": null,
            "grid_template_columns": null,
            "flex": null,
            "_model_name": "LayoutModel",
            "justify_items": null,
            "grid_row": null,
            "max_height": null,
            "align_content": null,
            "visibility": null,
            "align_self": null,
            "height": null,
            "min_height": null,
            "padding": null,
            "grid_auto_rows": null,
            "grid_gap": null,
            "max_width": null,
            "order": null,
            "_view_module_version": "1.2.0",
            "grid_template_areas": null,
            "object_position": null,
            "object_fit": null,
            "grid_auto_columns": null,
            "margin": null,
            "display": null,
            "left": null
          }
        },
        "32cec62a897c4b6eb5374993008aa1ad": {
          "model_module": "@jupyter-widgets/controls",
          "model_name": "HBoxModel",
          "state": {
            "_view_name": "HBoxView",
            "_dom_classes": [],
            "_model_name": "HBoxModel",
            "_view_module": "@jupyter-widgets/controls",
            "_model_module_version": "1.5.0",
            "_view_count": null,
            "_view_module_version": "1.5.0",
            "box_style": "",
            "layout": "IPY_MODEL_a77471ff40c741cc846df3289b564bc4",
            "_model_module": "@jupyter-widgets/controls",
            "children": [
              "IPY_MODEL_384fe2339e2a44f9882261fa5078499a",
              "IPY_MODEL_48ed0fda13814394a1976fa3bf7614bb"
            ]
          }
        },
        "a77471ff40c741cc846df3289b564bc4": {
          "model_module": "@jupyter-widgets/base",
          "model_name": "LayoutModel",
          "state": {
            "_view_name": "LayoutView",
            "grid_template_rows": null,
            "right": null,
            "justify_content": null,
            "_view_module": "@jupyter-widgets/base",
            "overflow": null,
            "_model_module_version": "1.2.0",
            "_view_count": null,
            "flex_flow": null,
            "width": null,
            "min_width": null,
            "border": null,
            "align_items": null,
            "bottom": null,
            "_model_module": "@jupyter-widgets/base",
            "top": null,
            "grid_column": null,
            "overflow_y": null,
            "overflow_x": null,
            "grid_auto_flow": null,
            "grid_area": null,
            "grid_template_columns": null,
            "flex": null,
            "_model_name": "LayoutModel",
            "justify_items": null,
            "grid_row": null,
            "max_height": null,
            "align_content": null,
            "visibility": null,
            "align_self": null,
            "height": null,
            "min_height": null,
            "padding": null,
            "grid_auto_rows": null,
            "grid_gap": null,
            "max_width": null,
            "order": null,
            "_view_module_version": "1.2.0",
            "grid_template_areas": null,
            "object_position": null,
            "object_fit": null,
            "grid_auto_columns": null,
            "margin": null,
            "display": null,
            "left": null
          }
        },
        "384fe2339e2a44f9882261fa5078499a": {
          "model_module": "@jupyter-widgets/controls",
          "model_name": "FloatProgressModel",
          "state": {
            "_view_name": "ProgressView",
            "style": "IPY_MODEL_ceedce95fdf743059e185ab8bbcd78ba",
            "_dom_classes": [],
            "description": "",
            "_model_name": "FloatProgressModel",
            "bar_style": "success",
            "max": 1,
            "_view_module": "@jupyter-widgets/controls",
            "_model_module_version": "1.5.0",
            "value": 1,
            "_view_count": null,
            "_view_module_version": "1.5.0",
            "orientation": "horizontal",
            "min": 0,
            "description_tooltip": null,
            "_model_module": "@jupyter-widgets/controls",
            "layout": "IPY_MODEL_7caa1f4e545e4077b1e64fe8ba45d25b"
          }
        },
        "48ed0fda13814394a1976fa3bf7614bb": {
          "model_module": "@jupyter-widgets/controls",
          "model_name": "HTMLModel",
          "state": {
            "_view_name": "HTMLView",
            "style": "IPY_MODEL_a5f78b79ca794b439a4b7dd59906257a",
            "_dom_classes": [],
            "description": "",
            "_model_name": "HTMLModel",
            "placeholder": "​",
            "_view_module": "@jupyter-widgets/controls",
            "_model_module_version": "1.5.0",
            "value": " 32768/? [00:00&lt;00:00, 48226.70it/s]",
            "_view_count": null,
            "_view_module_version": "1.5.0",
            "description_tooltip": null,
            "_model_module": "@jupyter-widgets/controls",
            "layout": "IPY_MODEL_b8ba5b13a99446298d28fe2109ce4752"
          }
        },
        "ceedce95fdf743059e185ab8bbcd78ba": {
          "model_module": "@jupyter-widgets/controls",
          "model_name": "ProgressStyleModel",
          "state": {
            "_view_name": "StyleView",
            "_model_name": "ProgressStyleModel",
            "description_width": "initial",
            "_view_module": "@jupyter-widgets/base",
            "_model_module_version": "1.5.0",
            "_view_count": null,
            "_view_module_version": "1.2.0",
            "bar_color": null,
            "_model_module": "@jupyter-widgets/controls"
          }
        },
        "7caa1f4e545e4077b1e64fe8ba45d25b": {
          "model_module": "@jupyter-widgets/base",
          "model_name": "LayoutModel",
          "state": {
            "_view_name": "LayoutView",
            "grid_template_rows": null,
            "right": null,
            "justify_content": null,
            "_view_module": "@jupyter-widgets/base",
            "overflow": null,
            "_model_module_version": "1.2.0",
            "_view_count": null,
            "flex_flow": null,
            "width": null,
            "min_width": null,
            "border": null,
            "align_items": null,
            "bottom": null,
            "_model_module": "@jupyter-widgets/base",
            "top": null,
            "grid_column": null,
            "overflow_y": null,
            "overflow_x": null,
            "grid_auto_flow": null,
            "grid_area": null,
            "grid_template_columns": null,
            "flex": null,
            "_model_name": "LayoutModel",
            "justify_items": null,
            "grid_row": null,
            "max_height": null,
            "align_content": null,
            "visibility": null,
            "align_self": null,
            "height": null,
            "min_height": null,
            "padding": null,
            "grid_auto_rows": null,
            "grid_gap": null,
            "max_width": null,
            "order": null,
            "_view_module_version": "1.2.0",
            "grid_template_areas": null,
            "object_position": null,
            "object_fit": null,
            "grid_auto_columns": null,
            "margin": null,
            "display": null,
            "left": null
          }
        },
        "a5f78b79ca794b439a4b7dd59906257a": {
          "model_module": "@jupyter-widgets/controls",
          "model_name": "DescriptionStyleModel",
          "state": {
            "_view_name": "StyleView",
            "_model_name": "DescriptionStyleModel",
            "description_width": "",
            "_view_module": "@jupyter-widgets/base",
            "_model_module_version": "1.5.0",
            "_view_count": null,
            "_view_module_version": "1.2.0",
            "_model_module": "@jupyter-widgets/controls"
          }
        },
        "b8ba5b13a99446298d28fe2109ce4752": {
          "model_module": "@jupyter-widgets/base",
          "model_name": "LayoutModel",
          "state": {
            "_view_name": "LayoutView",
            "grid_template_rows": null,
            "right": null,
            "justify_content": null,
            "_view_module": "@jupyter-widgets/base",
            "overflow": null,
            "_model_module_version": "1.2.0",
            "_view_count": null,
            "flex_flow": null,
            "width": null,
            "min_width": null,
            "border": null,
            "align_items": null,
            "bottom": null,
            "_model_module": "@jupyter-widgets/base",
            "top": null,
            "grid_column": null,
            "overflow_y": null,
            "overflow_x": null,
            "grid_auto_flow": null,
            "grid_area": null,
            "grid_template_columns": null,
            "flex": null,
            "_model_name": "LayoutModel",
            "justify_items": null,
            "grid_row": null,
            "max_height": null,
            "align_content": null,
            "visibility": null,
            "align_self": null,
            "height": null,
            "min_height": null,
            "padding": null,
            "grid_auto_rows": null,
            "grid_gap": null,
            "max_width": null,
            "order": null,
            "_view_module_version": "1.2.0",
            "grid_template_areas": null,
            "object_position": null,
            "object_fit": null,
            "grid_auto_columns": null,
            "margin": null,
            "display": null,
            "left": null
          }
        },
        "cbfa9bc0ea91487b98cdcf89c3717376": {
          "model_module": "@jupyter-widgets/controls",
          "model_name": "HBoxModel",
          "state": {
            "_view_name": "HBoxView",
            "_dom_classes": [],
            "_model_name": "HBoxModel",
            "_view_module": "@jupyter-widgets/controls",
            "_model_module_version": "1.5.0",
            "_view_count": null,
            "_view_module_version": "1.5.0",
            "box_style": "",
            "layout": "IPY_MODEL_c493244e681b4f6593da124c79704a69",
            "_model_module": "@jupyter-widgets/controls",
            "children": [
              "IPY_MODEL_c37d6c5c169d49c994d8936eeb245976",
              "IPY_MODEL_13d6178da6dd466e932461c15e859b7b"
            ]
          }
        },
        "c493244e681b4f6593da124c79704a69": {
          "model_module": "@jupyter-widgets/base",
          "model_name": "LayoutModel",
          "state": {
            "_view_name": "LayoutView",
            "grid_template_rows": null,
            "right": null,
            "justify_content": null,
            "_view_module": "@jupyter-widgets/base",
            "overflow": null,
            "_model_module_version": "1.2.0",
            "_view_count": null,
            "flex_flow": null,
            "width": null,
            "min_width": null,
            "border": null,
            "align_items": null,
            "bottom": null,
            "_model_module": "@jupyter-widgets/base",
            "top": null,
            "grid_column": null,
            "overflow_y": null,
            "overflow_x": null,
            "grid_auto_flow": null,
            "grid_area": null,
            "grid_template_columns": null,
            "flex": null,
            "_model_name": "LayoutModel",
            "justify_items": null,
            "grid_row": null,
            "max_height": null,
            "align_content": null,
            "visibility": null,
            "align_self": null,
            "height": null,
            "min_height": null,
            "padding": null,
            "grid_auto_rows": null,
            "grid_gap": null,
            "max_width": null,
            "order": null,
            "_view_module_version": "1.2.0",
            "grid_template_areas": null,
            "object_position": null,
            "object_fit": null,
            "grid_auto_columns": null,
            "margin": null,
            "display": null,
            "left": null
          }
        },
        "c37d6c5c169d49c994d8936eeb245976": {
          "model_module": "@jupyter-widgets/controls",
          "model_name": "FloatProgressModel",
          "state": {
            "_view_name": "ProgressView",
            "style": "IPY_MODEL_5504c3b43b9249ebbd5ae85be1525f45",
            "_dom_classes": [],
            "description": "",
            "_model_name": "FloatProgressModel",
            "bar_style": "success",
            "max": 1,
            "_view_module": "@jupyter-widgets/controls",
            "_model_module_version": "1.5.0",
            "value": 1,
            "_view_count": null,
            "_view_module_version": "1.5.0",
            "orientation": "horizontal",
            "min": 0,
            "description_tooltip": null,
            "_model_module": "@jupyter-widgets/controls",
            "layout": "IPY_MODEL_7e5025b431dc41e68042e9b465cd9356"
          }
        },
        "13d6178da6dd466e932461c15e859b7b": {
          "model_module": "@jupyter-widgets/controls",
          "model_name": "HTMLModel",
          "state": {
            "_view_name": "HTMLView",
            "style": "IPY_MODEL_e55efb4cd521484f8ac1d639cff62137",
            "_dom_classes": [],
            "description": "",
            "_model_name": "HTMLModel",
            "placeholder": "​",
            "_view_module": "@jupyter-widgets/controls",
            "_model_module_version": "1.5.0",
            "value": " 1654784/? [00:00&lt;00:00, 2978506.24it/s]",
            "_view_count": null,
            "_view_module_version": "1.5.0",
            "description_tooltip": null,
            "_model_module": "@jupyter-widgets/controls",
            "layout": "IPY_MODEL_43c018dffdd24e4d8e3c9ce229797757"
          }
        },
        "5504c3b43b9249ebbd5ae85be1525f45": {
          "model_module": "@jupyter-widgets/controls",
          "model_name": "ProgressStyleModel",
          "state": {
            "_view_name": "StyleView",
            "_model_name": "ProgressStyleModel",
            "description_width": "initial",
            "_view_module": "@jupyter-widgets/base",
            "_model_module_version": "1.5.0",
            "_view_count": null,
            "_view_module_version": "1.2.0",
            "bar_color": null,
            "_model_module": "@jupyter-widgets/controls"
          }
        },
        "7e5025b431dc41e68042e9b465cd9356": {
          "model_module": "@jupyter-widgets/base",
          "model_name": "LayoutModel",
          "state": {
            "_view_name": "LayoutView",
            "grid_template_rows": null,
            "right": null,
            "justify_content": null,
            "_view_module": "@jupyter-widgets/base",
            "overflow": null,
            "_model_module_version": "1.2.0",
            "_view_count": null,
            "flex_flow": null,
            "width": null,
            "min_width": null,
            "border": null,
            "align_items": null,
            "bottom": null,
            "_model_module": "@jupyter-widgets/base",
            "top": null,
            "grid_column": null,
            "overflow_y": null,
            "overflow_x": null,
            "grid_auto_flow": null,
            "grid_area": null,
            "grid_template_columns": null,
            "flex": null,
            "_model_name": "LayoutModel",
            "justify_items": null,
            "grid_row": null,
            "max_height": null,
            "align_content": null,
            "visibility": null,
            "align_self": null,
            "height": null,
            "min_height": null,
            "padding": null,
            "grid_auto_rows": null,
            "grid_gap": null,
            "max_width": null,
            "order": null,
            "_view_module_version": "1.2.0",
            "grid_template_areas": null,
            "object_position": null,
            "object_fit": null,
            "grid_auto_columns": null,
            "margin": null,
            "display": null,
            "left": null
          }
        },
        "e55efb4cd521484f8ac1d639cff62137": {
          "model_module": "@jupyter-widgets/controls",
          "model_name": "DescriptionStyleModel",
          "state": {
            "_view_name": "StyleView",
            "_model_name": "DescriptionStyleModel",
            "description_width": "",
            "_view_module": "@jupyter-widgets/base",
            "_model_module_version": "1.5.0",
            "_view_count": null,
            "_view_module_version": "1.2.0",
            "_model_module": "@jupyter-widgets/controls"
          }
        },
        "43c018dffdd24e4d8e3c9ce229797757": {
          "model_module": "@jupyter-widgets/base",
          "model_name": "LayoutModel",
          "state": {
            "_view_name": "LayoutView",
            "grid_template_rows": null,
            "right": null,
            "justify_content": null,
            "_view_module": "@jupyter-widgets/base",
            "overflow": null,
            "_model_module_version": "1.2.0",
            "_view_count": null,
            "flex_flow": null,
            "width": null,
            "min_width": null,
            "border": null,
            "align_items": null,
            "bottom": null,
            "_model_module": "@jupyter-widgets/base",
            "top": null,
            "grid_column": null,
            "overflow_y": null,
            "overflow_x": null,
            "grid_auto_flow": null,
            "grid_area": null,
            "grid_template_columns": null,
            "flex": null,
            "_model_name": "LayoutModel",
            "justify_items": null,
            "grid_row": null,
            "max_height": null,
            "align_content": null,
            "visibility": null,
            "align_self": null,
            "height": null,
            "min_height": null,
            "padding": null,
            "grid_auto_rows": null,
            "grid_gap": null,
            "max_width": null,
            "order": null,
            "_view_module_version": "1.2.0",
            "grid_template_areas": null,
            "object_position": null,
            "object_fit": null,
            "grid_auto_columns": null,
            "margin": null,
            "display": null,
            "left": null
          }
        },
        "be87470bbf4e4544b9e21be4cf7cb84f": {
          "model_module": "@jupyter-widgets/controls",
          "model_name": "HBoxModel",
          "state": {
            "_view_name": "HBoxView",
            "_dom_classes": [],
            "_model_name": "HBoxModel",
            "_view_module": "@jupyter-widgets/controls",
            "_model_module_version": "1.5.0",
            "_view_count": null,
            "_view_module_version": "1.5.0",
            "box_style": "",
            "layout": "IPY_MODEL_391f23716bfc435abdf65891acf965c9",
            "_model_module": "@jupyter-widgets/controls",
            "children": [
              "IPY_MODEL_97f9fe17186e44df8996fc3e03c7c56e",
              "IPY_MODEL_5269383ce5854f8bb9ec8e37bf993f89"
            ]
          }
        },
        "391f23716bfc435abdf65891acf965c9": {
          "model_module": "@jupyter-widgets/base",
          "model_name": "LayoutModel",
          "state": {
            "_view_name": "LayoutView",
            "grid_template_rows": null,
            "right": null,
            "justify_content": null,
            "_view_module": "@jupyter-widgets/base",
            "overflow": null,
            "_model_module_version": "1.2.0",
            "_view_count": null,
            "flex_flow": null,
            "width": null,
            "min_width": null,
            "border": null,
            "align_items": null,
            "bottom": null,
            "_model_module": "@jupyter-widgets/base",
            "top": null,
            "grid_column": null,
            "overflow_y": null,
            "overflow_x": null,
            "grid_auto_flow": null,
            "grid_area": null,
            "grid_template_columns": null,
            "flex": null,
            "_model_name": "LayoutModel",
            "justify_items": null,
            "grid_row": null,
            "max_height": null,
            "align_content": null,
            "visibility": null,
            "align_self": null,
            "height": null,
            "min_height": null,
            "padding": null,
            "grid_auto_rows": null,
            "grid_gap": null,
            "max_width": null,
            "order": null,
            "_view_module_version": "1.2.0",
            "grid_template_areas": null,
            "object_position": null,
            "object_fit": null,
            "grid_auto_columns": null,
            "margin": null,
            "display": null,
            "left": null
          }
        },
        "97f9fe17186e44df8996fc3e03c7c56e": {
          "model_module": "@jupyter-widgets/controls",
          "model_name": "FloatProgressModel",
          "state": {
            "_view_name": "ProgressView",
            "style": "IPY_MODEL_913795d91ab54f6f83613d1c5fc096c4",
            "_dom_classes": [],
            "description": "",
            "_model_name": "FloatProgressModel",
            "bar_style": "success",
            "max": 1,
            "_view_module": "@jupyter-widgets/controls",
            "_model_module_version": "1.5.0",
            "value": 1,
            "_view_count": null,
            "_view_module_version": "1.5.0",
            "orientation": "horizontal",
            "min": 0,
            "description_tooltip": null,
            "_model_module": "@jupyter-widgets/controls",
            "layout": "IPY_MODEL_0fc84b5a6e7f475c8bc6ad84f1a11a41"
          }
        },
        "5269383ce5854f8bb9ec8e37bf993f89": {
          "model_module": "@jupyter-widgets/controls",
          "model_name": "HTMLModel",
          "state": {
            "_view_name": "HTMLView",
            "style": "IPY_MODEL_141603ecf44244d4babd9f425ed361c6",
            "_dom_classes": [],
            "description": "",
            "_model_name": "HTMLModel",
            "placeholder": "​",
            "_view_module": "@jupyter-widgets/controls",
            "_model_module_version": "1.5.0",
            "value": " 8192/? [00:00&lt;00:00, 32087.97it/s]",
            "_view_count": null,
            "_view_module_version": "1.5.0",
            "description_tooltip": null,
            "_model_module": "@jupyter-widgets/controls",
            "layout": "IPY_MODEL_b2275c81c41c4a8090b2490e52add4f4"
          }
        },
        "913795d91ab54f6f83613d1c5fc096c4": {
          "model_module": "@jupyter-widgets/controls",
          "model_name": "ProgressStyleModel",
          "state": {
            "_view_name": "StyleView",
            "_model_name": "ProgressStyleModel",
            "description_width": "initial",
            "_view_module": "@jupyter-widgets/base",
            "_model_module_version": "1.5.0",
            "_view_count": null,
            "_view_module_version": "1.2.0",
            "bar_color": null,
            "_model_module": "@jupyter-widgets/controls"
          }
        },
        "0fc84b5a6e7f475c8bc6ad84f1a11a41": {
          "model_module": "@jupyter-widgets/base",
          "model_name": "LayoutModel",
          "state": {
            "_view_name": "LayoutView",
            "grid_template_rows": null,
            "right": null,
            "justify_content": null,
            "_view_module": "@jupyter-widgets/base",
            "overflow": null,
            "_model_module_version": "1.2.0",
            "_view_count": null,
            "flex_flow": null,
            "width": null,
            "min_width": null,
            "border": null,
            "align_items": null,
            "bottom": null,
            "_model_module": "@jupyter-widgets/base",
            "top": null,
            "grid_column": null,
            "overflow_y": null,
            "overflow_x": null,
            "grid_auto_flow": null,
            "grid_area": null,
            "grid_template_columns": null,
            "flex": null,
            "_model_name": "LayoutModel",
            "justify_items": null,
            "grid_row": null,
            "max_height": null,
            "align_content": null,
            "visibility": null,
            "align_self": null,
            "height": null,
            "min_height": null,
            "padding": null,
            "grid_auto_rows": null,
            "grid_gap": null,
            "max_width": null,
            "order": null,
            "_view_module_version": "1.2.0",
            "grid_template_areas": null,
            "object_position": null,
            "object_fit": null,
            "grid_auto_columns": null,
            "margin": null,
            "display": null,
            "left": null
          }
        },
        "141603ecf44244d4babd9f425ed361c6": {
          "model_module": "@jupyter-widgets/controls",
          "model_name": "DescriptionStyleModel",
          "state": {
            "_view_name": "StyleView",
            "_model_name": "DescriptionStyleModel",
            "description_width": "",
            "_view_module": "@jupyter-widgets/base",
            "_model_module_version": "1.5.0",
            "_view_count": null,
            "_view_module_version": "1.2.0",
            "_model_module": "@jupyter-widgets/controls"
          }
        },
        "b2275c81c41c4a8090b2490e52add4f4": {
          "model_module": "@jupyter-widgets/base",
          "model_name": "LayoutModel",
          "state": {
            "_view_name": "LayoutView",
            "grid_template_rows": null,
            "right": null,
            "justify_content": null,
            "_view_module": "@jupyter-widgets/base",
            "overflow": null,
            "_model_module_version": "1.2.0",
            "_view_count": null,
            "flex_flow": null,
            "width": null,
            "min_width": null,
            "border": null,
            "align_items": null,
            "bottom": null,
            "_model_module": "@jupyter-widgets/base",
            "top": null,
            "grid_column": null,
            "overflow_y": null,
            "overflow_x": null,
            "grid_auto_flow": null,
            "grid_area": null,
            "grid_template_columns": null,
            "flex": null,
            "_model_name": "LayoutModel",
            "justify_items": null,
            "grid_row": null,
            "max_height": null,
            "align_content": null,
            "visibility": null,
            "align_self": null,
            "height": null,
            "min_height": null,
            "padding": null,
            "grid_auto_rows": null,
            "grid_gap": null,
            "max_width": null,
            "order": null,
            "_view_module_version": "1.2.0",
            "grid_template_areas": null,
            "object_position": null,
            "object_fit": null,
            "grid_auto_columns": null,
            "margin": null,
            "display": null,
            "left": null
          }
        }
      }
    }
  },
  "cells": [
    {
      "cell_type": "markdown",
      "metadata": {
        "id": "hQBbn61-eNEH",
        "colab_type": "text"
      },
      "source": [
        "# Assignment 1"
      ]
    },
    {
      "cell_type": "markdown",
      "metadata": {
        "id": "T4SLr8bBeNEJ",
        "colab_type": "text"
      },
      "source": [
        "- Set Jupyter server in your home account so that you can use it remotely (Optional due to Covid-19!)\n",
        "- Build 2 layer network for Logistic Regression Classifier using pure python/numpy \n",
        "    - Input data x : 20 x 784 (20 is the batch size)\n",
        "    - label y : 20 x 10\n",
        "    - Weight Variable W with random_normal initialization\n",
        "    - Bias variable b with zeros\n",
        "    - Use softmax activation => softmax(x.W+b)\n",
        "    - Use OneHot encoding and MSE loss! Not the best way for classification but just for practice \n",
        "    - Train the model on MNIST\n",
        "    - PS: If you dont know how to start see this: http://iamtrask.github.io/2015/07/12/basic-python-network/\n",
        "- Submit your ipython notebook file to farazi@ais.uni-bonn.de with subject: Assignment1"
      ]
    },
    {
      "cell_type": "code",
      "metadata": {
        "id": "yxCC3R4TeNEL",
        "colab_type": "code",
        "colab": {
          "base_uri": "https://localhost:8080/",
          "height": 420,
          "referenced_widgets": [
            "9bcbf86754894e3daf992c7793d3e21a",
            "163ceb06ef214e209fb252e6c14da8f1",
            "e7195e9d22ff4a4c95dbbf3629d7534b",
            "d2f2a1ac1c614ca193837fc5d7861ddf",
            "95ff6071051245068d694c6582b6547a",
            "985bb548d24d48cc8bce3b8d2ca7cf36",
            "18e714cf5a5d406e8543dba535f29a29",
            "1e0ed7e9ce38486abf90a66deaed307d",
            "32cec62a897c4b6eb5374993008aa1ad",
            "a77471ff40c741cc846df3289b564bc4",
            "384fe2339e2a44f9882261fa5078499a",
            "48ed0fda13814394a1976fa3bf7614bb",
            "ceedce95fdf743059e185ab8bbcd78ba",
            "7caa1f4e545e4077b1e64fe8ba45d25b",
            "a5f78b79ca794b439a4b7dd59906257a",
            "b8ba5b13a99446298d28fe2109ce4752",
            "cbfa9bc0ea91487b98cdcf89c3717376",
            "c493244e681b4f6593da124c79704a69",
            "c37d6c5c169d49c994d8936eeb245976",
            "13d6178da6dd466e932461c15e859b7b",
            "5504c3b43b9249ebbd5ae85be1525f45",
            "7e5025b431dc41e68042e9b465cd9356",
            "e55efb4cd521484f8ac1d639cff62137",
            "43c018dffdd24e4d8e3c9ce229797757",
            "be87470bbf4e4544b9e21be4cf7cb84f",
            "391f23716bfc435abdf65891acf965c9",
            "97f9fe17186e44df8996fc3e03c7c56e",
            "5269383ce5854f8bb9ec8e37bf993f89",
            "913795d91ab54f6f83613d1c5fc096c4",
            "0fc84b5a6e7f475c8bc6ad84f1a11a41",
            "141603ecf44244d4babd9f425ed361c6",
            "b2275c81c41c4a8090b2490e52add4f4"
          ]
        },
        "outputId": "736ce32f-20af-48ab-e181-d576bd87d020"
      },
      "source": [
        "import torch\n",
        "import torch.nn as nn\n",
        "import torchvision.transforms as transforms\n",
        "import torchvision.datasets as dsets\n",
        "\n",
        "train_dataset= dsets.MNIST(root='./data',train=True,transform=transforms.ToTensor(),download=True)\n",
        "test_dataset= dsets.MNIST(root='./data',train=False,transform=transforms.ToTensor(),download=True)"
      ],
      "execution_count": 1,
      "outputs": [
        {
          "output_type": "stream",
          "text": [
            "Downloading http://yann.lecun.com/exdb/mnist/train-images-idx3-ubyte.gz to ./data/MNIST/raw/train-images-idx3-ubyte.gz\n"
          ],
          "name": "stdout"
        },
        {
          "output_type": "display_data",
          "data": {
            "application/vnd.jupyter.widget-view+json": {
              "model_id": "9bcbf86754894e3daf992c7793d3e21a",
              "version_minor": 0,
              "version_major": 2
            },
            "text/plain": [
              "HBox(children=(FloatProgress(value=1.0, bar_style='info', max=1.0), HTML(value='')))"
            ]
          },
          "metadata": {
            "tags": []
          }
        },
        {
          "output_type": "stream",
          "text": [
            "Extracting ./data/MNIST/raw/train-images-idx3-ubyte.gz to ./data/MNIST/raw\n",
            "Downloading http://yann.lecun.com/exdb/mnist/train-labels-idx1-ubyte.gz to ./data/MNIST/raw/train-labels-idx1-ubyte.gz\n"
          ],
          "name": "stdout"
        },
        {
          "output_type": "display_data",
          "data": {
            "application/vnd.jupyter.widget-view+json": {
              "model_id": "32cec62a897c4b6eb5374993008aa1ad",
              "version_minor": 0,
              "version_major": 2
            },
            "text/plain": [
              "HBox(children=(FloatProgress(value=1.0, bar_style='info', max=1.0), HTML(value='')))"
            ]
          },
          "metadata": {
            "tags": []
          }
        },
        {
          "output_type": "stream",
          "text": [
            "Extracting ./data/MNIST/raw/train-labels-idx1-ubyte.gz to ./data/MNIST/raw\n",
            "Downloading http://yann.lecun.com/exdb/mnist/t10k-images-idx3-ubyte.gz to ./data/MNIST/raw/t10k-images-idx3-ubyte.gz\n"
          ],
          "name": "stdout"
        },
        {
          "output_type": "display_data",
          "data": {
            "application/vnd.jupyter.widget-view+json": {
              "model_id": "cbfa9bc0ea91487b98cdcf89c3717376",
              "version_minor": 0,
              "version_major": 2
            },
            "text/plain": [
              "HBox(children=(FloatProgress(value=1.0, bar_style='info', max=1.0), HTML(value='')))"
            ]
          },
          "metadata": {
            "tags": []
          }
        },
        {
          "output_type": "stream",
          "text": [
            "Extracting ./data/MNIST/raw/t10k-images-idx3-ubyte.gz to ./data/MNIST/raw\n",
            "Downloading http://yann.lecun.com/exdb/mnist/t10k-labels-idx1-ubyte.gz to ./data/MNIST/raw/t10k-labels-idx1-ubyte.gz\n"
          ],
          "name": "stdout"
        },
        {
          "output_type": "display_data",
          "data": {
            "application/vnd.jupyter.widget-view+json": {
              "model_id": "be87470bbf4e4544b9e21be4cf7cb84f",
              "version_minor": 0,
              "version_major": 2
            },
            "text/plain": [
              "HBox(children=(FloatProgress(value=1.0, bar_style='info', max=1.0), HTML(value='')))"
            ]
          },
          "metadata": {
            "tags": []
          }
        },
        {
          "output_type": "stream",
          "text": [
            "Extracting ./data/MNIST/raw/t10k-labels-idx1-ubyte.gz to ./data/MNIST/raw\n",
            "Processing...\n",
            "Done!\n",
            "\n",
            "\n",
            "\n",
            "\n"
          ],
          "name": "stdout"
        },
        {
          "output_type": "stream",
          "text": [
            "/pytorch/torch/csrc/utils/tensor_numpy.cpp:141: UserWarning: The given NumPy array is not writeable, and PyTorch does not support non-writeable tensors. This means you can write to the underlying (supposedly non-writeable) NumPy array using the tensor. You may want to copy the array to protect its data or make it writeable before converting it to a tensor. This type of warning will be suppressed for the rest of this program.\n"
          ],
          "name": "stderr"
        }
      ]
    },
    {
      "cell_type": "code",
      "metadata": {
        "id": "z10AJiKveNER",
        "colab_type": "code",
        "colab": {}
      },
      "source": [
        "import numpy as np"
      ],
      "execution_count": 0,
      "outputs": []
    },
    {
      "cell_type": "code",
      "metadata": {
        "id": "35aMGbS4eNEV",
        "colab_type": "code",
        "colab": {}
      },
      "source": [
        "# test dataset\n",
        "X_test = test_dataset.data.numpy()\n",
        "X_test = X_test.reshape(X_test.shape[0], X_test.shape[1]*X_test.shape[2])\n",
        "X_test = np.array(X_test, dtype=np.float32)/255.\n",
        "\n",
        "# output data (labels)\n",
        "y_test = test_dataset.targets.numpy()\n",
        "y_vector_test = np.eye(10)[y_test]"
      ],
      "execution_count": 0,
      "outputs": []
    },
    {
      "cell_type": "code",
      "metadata": {
        "id": "GA2aiPdueNEZ",
        "colab_type": "code",
        "colab": {}
      },
      "source": [
        "# train dataset\n",
        "\n",
        "# input dataset\n",
        "X = train_dataset.data.numpy()\n",
        "X = X.reshape(X.shape[0], X.shape[1]*X.shape[2])\n",
        "X = np.array(X, dtype=np.float32)/255.\n",
        "\n",
        "# output data (labels)\n",
        "y = train_dataset.targets.numpy()\n",
        "y_vector = np.eye(10)[y]"
      ],
      "execution_count": 0,
      "outputs": []
    },
    {
      "cell_type": "code",
      "metadata": {
        "id": "N-qcvBipeNEd",
        "colab_type": "code",
        "outputId": "6f9adb00-2931-4ac5-d79a-200fdfb28f10",
        "colab": {
          "base_uri": "https://localhost:8080/",
          "height": 286
        }
      },
      "source": [
        "# example\n",
        "\n",
        "import matplotlib.pyplot as plt\n",
        "img = X[0].reshape(28,28)\n",
        "plt.imshow(img,cmap='gray')\n",
        "plt.colorbar()\n",
        "\n",
        "print(\"Label: \" + str(y[0]))"
      ],
      "execution_count": 5,
      "outputs": [
        {
          "output_type": "stream",
          "text": [
            "Label: 5\n"
          ],
          "name": "stdout"
        },
        {
          "output_type": "display_data",
          "data": {
            "image/png": "[encoded data removed]",
            "text/plain": [
              "<Figure size 432x288 with 2 Axes>"
            ]
          },
          "metadata": {
            "tags": [],
            "needs_background": "light"
          }
        }
      ]
    },
    {
      "cell_type": "code",
      "metadata": {
        "id": "8T_DhKtweNEj",
        "colab_type": "code",
        "colab": {}
      },
      "source": [
        "# softmax function\n",
        "def softmax(z,deriv=False):\n",
        "    z = z.reshape(-1,1)\n",
        "    if(deriv==True):\n",
        "        z = z.reshape(-1,1)\n",
        "        return np.diagflat(z) - np.dot(z, z.T)\n",
        "    z -= np.max(z)\n",
        "    return (np.exp(z).T / np.sum(np.exp(z), axis=0)).T"
      ],
      "execution_count": 0,
      "outputs": []
    },
    {
      "cell_type": "code",
      "metadata": {
        "id": "5y3-1QLceNEm",
        "colab_type": "code",
        "colab": {}
      },
      "source": [
        "def softmax_batch(z,deriv=False):\n",
        "    if(deriv==True):\n",
        "        derivative = np.zeros((z.shape[1],z.shape[1]))\n",
        "        for row in range(z.shape[0]):\n",
        "            derivative += softmax(z[row][:], deriv)\n",
        "        derivative /= z.shape[0]\n",
        "        return derivative\n",
        "        \n",
        "    batch_z = np.zeros(z.shape)\n",
        "    for row in range(z.shape[0]):\n",
        "        batch_z[row][:] = softmax(z[row][:]).T\n",
        "    \n",
        "    return batch_z"
      ],
      "execution_count": 0,
      "outputs": []
    },
    {
      "cell_type": "code",
      "metadata": {
        "id": "iQepZSwieNEr",
        "colab_type": "code",
        "colab": {
          "base_uri": "https://localhost:8080/",
          "height": 867
        },
        "outputId": "15fef0d3-c989-432c-c517-92ca2d64aaa9"
      },
      "source": [
        "num_labels = 10\n",
        "\n",
        "# default accuracy 0 %\n",
        "accuracy = 0\n",
        "\n",
        "# seed random numbers to make calculation\n",
        "np.random.seed(1)\n",
        "\n",
        "# initialize weights with random normal initialization\n",
        "weights = np.random.random((X.shape[1], num_labels))\n",
        "\n",
        "# initialize bias with zeros\n",
        "bias = np.zeros(num_labels)\n",
        "\n",
        "# the optimal values\n",
        "opt_weights = weights\n",
        "opt_bias = bias\n",
        "\n",
        "\n",
        "batch_size = 20\n",
        "num_batches = int(X.shape[0] / batch_size) # 3000\n",
        "\n",
        "for epoche in range(50):\n",
        "    #print(\"Epoche: \" + str(epoche))\n",
        "    #permutation = np.random.permutation(X.shape[0])\n",
        "    #np.take(X,permutation,axis=0,out=X);\n",
        "    #np.take(y_vector,permutation,axis=0,out=y_vector);\n",
        "    \n",
        "    for batch in range(num_batches):\n",
        "        #print(str(epoche) + \" Batch: \" + str(batch))\n",
        "        \n",
        "        # input\n",
        "        X_batch = X[batch_size*batch:(batch_size*batch+batch_size),:]\n",
        "        \n",
        "        # labels\n",
        "        y_batch = y_vector[batch_size*batch:(batch_size*batch+batch_size)]\n",
        "        \n",
        "        # forward propagation\n",
        "        l0 = X_batch\n",
        "        l1 = softmax_batch(np.dot(l0,weights) + bias)\n",
        "        \n",
        "        # Mean Square Error\n",
        "        mse = ((y_batch-l1)**2).mean()\n",
        "        # print(\"Epoche: \" + str(epoche)+ \"; Batch: \" + str(batch) +\"; MSE = \" + str(mse)) # <--------- MSE for every batch\n",
        "        \n",
        "        # The Error Weighted Derivative\n",
        "        # using chain rule\n",
        "        derivative_w = np.dot(l0.T, np.dot(2*(y_batch-l1),softmax_batch(l1, True)))\n",
        "        # derivative_b = np.dot(np.ones(num_labels), np.dot(2*(y_batch-l1),softmax_batch(l1, True)))\n",
        "        \n",
        "        # update weights (We add here because we did not use minus sign in the above calculation of derivative_w)\n",
        "        # mse as learning rate\n",
        "        weights += mse * derivative_w\n",
        "        # bias += mse * derivative_b\n",
        "    \n",
        "    # accuracy with test data\n",
        "    # if accuracy is better save weights and bias\n",
        "    correct = 0\n",
        "    result_test = np.argmax(softmax_batch(np.dot(X_test,weights) + bias), axis=1)\n",
        "\n",
        "    # similarity is 0 if classification is correct\n",
        "    # correct the number of 0s in similarity\n",
        "    similarity = y_test - result_test\n",
        "    correct = np.count_nonzero(similarity==0)\n",
        "\n",
        "    # if better accuracy -> refresh\n",
        "    if accuracy < (correct/len(similarity)):\n",
        "        accuracy = correct/len(similarity)\n",
        "        # save new optimal weights\n",
        "        opt_weights = weights\n",
        "        opt_bias = bias\n",
        "        print(\"Epoche \" + str(epoche) +\"; accuracy: \" + str(accuracy) + \" (NEW)\")\n",
        "    else:\n",
        "        print(\"Epoche \" + str(epoche) +\"; accuracy: \" + str(accuracy) )\n",
        "        "
      ],
      "execution_count": 8,
      "outputs": [
        {
          "output_type": "stream",
          "text": [
            "Epoche 0; accuracy: 0.7974 (NEW)\n",
            "Epoche 1; accuracy: 0.8052 (NEW)\n",
            "Epoche 2; accuracy: 0.8082 (NEW)\n",
            "Epoche 3; accuracy: 0.8101 (NEW)\n",
            "Epoche 4; accuracy: 0.8115 (NEW)\n",
            "Epoche 5; accuracy: 0.8121 (NEW)\n",
            "Epoche 6; accuracy: 0.8123 (NEW)\n",
            "Epoche 7; accuracy: 0.8129 (NEW)\n",
            "Epoche 8; accuracy: 0.8135 (NEW)\n",
            "Epoche 9; accuracy: 0.8135\n",
            "Epoche 10; accuracy: 0.9087 (NEW)\n",
            "Epoche 11; accuracy: 0.9137 (NEW)\n",
            "Epoche 12; accuracy: 0.9154 (NEW)\n",
            "Epoche 13; accuracy: 0.9171 (NEW)\n",
            "Epoche 14; accuracy: 0.9177 (NEW)\n",
            "Epoche 15; accuracy: 0.9186 (NEW)\n",
            "Epoche 16; accuracy: 0.9188 (NEW)\n",
            "Epoche 17; accuracy: 0.9188\n",
            "Epoche 18; accuracy: 0.9191 (NEW)\n",
            "Epoche 19; accuracy: 0.9194 (NEW)\n",
            "Epoche 20; accuracy: 0.9194\n",
            "Epoche 21; accuracy: 0.9201 (NEW)\n",
            "Epoche 22; accuracy: 0.9203 (NEW)\n",
            "Epoche 23; accuracy: 0.9208 (NEW)\n",
            "Epoche 24; accuracy: 0.9209 (NEW)\n",
            "Epoche 25; accuracy: 0.9209\n",
            "Epoche 26; accuracy: 0.9211 (NEW)\n",
            "Epoche 27; accuracy: 0.9213 (NEW)\n",
            "Epoche 28; accuracy: 0.9213\n",
            "Epoche 29; accuracy: 0.9214 (NEW)\n",
            "Epoche 30; accuracy: 0.9214\n",
            "Epoche 31; accuracy: 0.9214\n",
            "Epoche 32; accuracy: 0.9214\n",
            "Epoche 33; accuracy: 0.9214\n",
            "Epoche 34; accuracy: 0.9214\n",
            "Epoche 35; accuracy: 0.9214\n",
            "Epoche 36; accuracy: 0.9214\n",
            "Epoche 37; accuracy: 0.9214\n",
            "Epoche 38; accuracy: 0.9214\n",
            "Epoche 39; accuracy: 0.9214\n",
            "Epoche 40; accuracy: 0.9214\n",
            "Epoche 41; accuracy: 0.9214\n",
            "Epoche 42; accuracy: 0.9214\n",
            "Epoche 43; accuracy: 0.9215 (NEW)\n",
            "Epoche 44; accuracy: 0.9217 (NEW)\n",
            "Epoche 45; accuracy: 0.9219 (NEW)\n",
            "Epoche 46; accuracy: 0.9219\n",
            "Epoche 47; accuracy: 0.9221 (NEW)\n",
            "Epoche 48; accuracy: 0.9222 (NEW)\n",
            "Epoche 49; accuracy: 0.9224 (NEW)\n"
          ],
          "name": "stdout"
        }
      ]
    },
    {
      "cell_type": "code",
      "metadata": {
        "id": "6oifk7lWeNEv",
        "colab_type": "code",
        "colab": {}
      },
      "source": [
        ""
      ],
      "execution_count": 0,
      "outputs": []
    }
  ]
}