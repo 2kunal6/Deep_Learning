{
 "cells": [
  {
   "cell_type": "code",
   "execution_count": 6,
   "metadata": {},
   "outputs": [
    {
     "name": "stdout",
     "output_type": "stream",
     "text": [
      "Collecting pytube3\n",
      "  Downloading pytube3-9.6.4-py3-none-any.whl (38 kB)\n",
      "Collecting typing-extensions\n",
      "  Downloading typing_extensions-3.7.4.2-py3-none-any.whl (22 kB)\n",
      "Installing collected packages: typing-extensions, pytube3\n",
      "Successfully installed pytube3-9.6.4 typing-extensions-3.7.4.2\n"
     ]
    }
   ],
   "source": [
    "!pip install pytube3"
   ]
  },
  {
   "cell_type": "code",
   "execution_count": 10,
   "metadata": {},
   "outputs": [],
   "source": [
    "from pytube import YouTube\n",
    "\n",
    "download_list = ['https://www.youtube.com/watch?v=JdP0AG0FqwY',\n",
    "'https://www.youtube.com/watch?v=6ldHWWHfeBc&t=5s',\n",
    "'https://www.youtube.com/watch?v=WJKc56uUuF8',\n",
    "'https://www.youtube.com/watch?v=RG205OwGdSg',\n",
    "'https://www.youtube.com/watch?v=yVdB_0ry53o',\n",
    "'https://www.youtube.com/watch?v=TWNvSHpMrSM',\n",
    "'https://www.youtube.com/watch?v=UsmBD2_3FH8',\n",
    "'https://www.youtube.com/watch?v=WGKo_6IkFBY',\n",
    "'https://www.youtube.com/watch?v=G6xE7uWt6Fo&t=1s',\n",
    "'https://www.youtube.com/watch?v=G9llFqAwI-8&t=17s',\n",
    "'https://www.youtube.com/watch?v=t8Ni5cB9FCc&t=21s',\n",
    "'https://www.youtube.com/watch?v=CLkcznptenE',\n",
    "'https://www.youtube.com/watch?v=-FQOZTsEA1Y',\n",
    "'https://www.youtube.com/watch?v=hkZAMO0y0Hs',\n",
    "'https://www.youtube.com/watch?v=9saVpA3wIbU',\n",
    "'https://www.youtube.com/watch?v=RC7ZNXclWWY']\n",
    "\n",
    "i=0\n",
    "for vid in download_list:\n",
    "    YouTube(vid).streams.first().download('images/' + str(i))\n",
    "    i=i+1"
   ]
  },
  {
   "cell_type": "code",
   "execution_count": 24,
   "metadata": {},
   "outputs": [
    {
     "name": "stdout",
     "output_type": "stream",
     "text": [
      "images/12/YouTube.mp4\n",
      "images/7/YouTube.mp4\n",
      "images/2/NimbRo-OP2 Grown-up 3D Printed Open Humanoid Platform for Research.mp4\n",
      "images/5/YouTube.mp4\n",
      "images/8/YouTube.mp4\n",
      "images/0/Robot recognition test.mp4\n",
      "images/3/RoboCup 2017 Humanoid League Winner NimbRo AdultSize.mp4\n",
      "images/14/RoboCup 2016 NimbRo vs AUTMan.mp4\n",
      "images/9/YouTube.mp4\n",
      "images/15/igus Humanoid Open Platform.mp4\n",
      "images/1/YouTube.mp4\n",
      "images/10/YouTube.mp4\n",
      "images/6/YouTube.mp4\n",
      "images/11/YouTube.mp4\n",
      "images/4/YouTube.mp4\n",
      "images/13/YouTube.mp4\n"
     ]
    }
   ],
   "source": [
    "import glob\n",
    "import os.path\n",
    "from pathlib import Path\n",
    "import cv2\n",
    "\n",
    "src = Path('.')\n",
    "count = 0\n",
    "for file in src.rglob('*.mp4'):\n",
    "    \n",
    "    print(file)\n",
    "    vidcap = cv2.VideoCapture(str(file))\n",
    "    success,image = vidcap.read()\n",
    "\n",
    "    success = True\n",
    "    while success:\n",
    "        success,image = vidcap.read()\n",
    "        if(count%10 == 0):\n",
    "            try:\n",
    "                cv2.imwrite(\"img/frame%d.jpg\" % count, image)\n",
    "            except:\n",
    "                pass\n",
    "        if cv2.waitKey(10) == 27:\n",
    "            break\n",
    "        count += 1"
   ]
  },
  {
   "cell_type": "code",
   "execution_count": null,
   "metadata": {},
   "outputs": [],
   "source": []
  }
 ],
 "metadata": {
  "kernelspec": {
   "display_name": "Python 3",
   "language": "python",
   "name": "python3"
  },
  "language_info": {
   "codemirror_mode": {
    "name": "ipython",
    "version": 3
   },
   "file_extension": ".py",
   "mimetype": "text/x-python",
   "name": "python",
   "nbconvert_exporter": "python",
   "pygments_lexer": "ipython3",
   "version": "3.7.6"
  }
 },
 "nbformat": 4,
 "nbformat_minor": 4
}
