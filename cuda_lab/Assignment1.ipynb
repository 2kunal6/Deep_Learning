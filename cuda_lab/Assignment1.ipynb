{
  "nbformat": 4,
  "nbformat_minor": 0,
  "metadata": {
    "colab": {
      "name": "Assignment1.ipynb",
      "provenance": [],
      "collapsed_sections": [],
      "authorship_tag": "ABX9TyMoF/FFKzTZqSuDXTHQm0av",
      "include_colab_link": true
    },
    "kernelspec": {
      "name": "python3",
      "display_name": "Python 3"
    }
  },
  "cells": [
    {
      "cell_type": "markdown",
      "metadata": {
        "id": "view-in-github",
        "colab_type": "text"
      },
      "source": [
        "<a href=\"https://colab.research.google.com/github/2kunal6/UniBonn/blob/master/cuda_lab/Assignment1.ipynb\" target=\"_parent\"><img src=\"https://colab.research.google.com/assets/colab-badge.svg\" alt=\"Open In Colab\"/></a>"
      ]
    },
    {
      "cell_type": "code",
      "metadata": {
        "id": "TG7jhuOn3zeU",
        "colab_type": "code",
        "outputId": "3d6c11d8-21dd-4a3f-8bc8-5b0d7a308966",
        "colab": {
          "base_uri": "https://localhost:8080/",
          "height": 68
        }
      },
      "source": [
        "from torchvision import datasets, transforms\n",
        "import numpy as np\n",
        "from tqdm import tqdm\n",
        "\n",
        "train_mnist = datasets.MNIST(\"\", train=True, transform=transforms.ToTensor(), download=True)\n",
        "\n",
        "test_mnist = datasets.MNIST(\"\", train=False, transform=transforms.ToTensor(), download=True)\n",
        "\n",
        "train = []\n",
        "test = []\n",
        "for data in train_mnist:\n",
        "  train.append([data[0].view(28*28).numpy(), np.eye(10)[data[1]]])\n",
        "\n",
        "for data in test_mnist:\n",
        "  test.append([data[0].view(28*28).numpy(), np.eye(10)[data[1]]])\n",
        "\n",
        "\n",
        "print(len(train))\n",
        "print(len(test))\n",
        "print(len(train[0][0]), type(train[0][0]))"
      ],
      "execution_count": 34,
      "outputs": [
        {
          "output_type": "stream",
          "text": [
            "60000\n",
            "10000\n",
            "784 <class 'numpy.ndarray'>\n"
          ],
          "name": "stdout"
        }
      ]
    },
    {
      "cell_type": "code",
      "metadata": {
        "id": "RaHrF1YEIXSQ",
        "colab_type": "code",
        "colab": {
          "base_uri": "https://localhost:8080/",
          "height": 34
        },
        "outputId": "8edbab61-03e3-4839-ea99-9d0565ce6803"
      },
      "source": [
        "np.random.seed(1)\n",
        "num_input = 784\n",
        "num_output = 10\n",
        "weight = np.random.random((num_output, num_input))\n",
        "bias = 0.0\n",
        "learning_rate = 0.01\n",
        "\n",
        "def softmax(x):\n",
        "    \"\"\"Compute softmax values for each sets of scores in x.\"\"\"\n",
        "    e_x = np.exp(x - np.max(x))\n",
        "    return e_x / e_x.sum()\n",
        "\n",
        "def forward(x, y):\n",
        "  x = data[0]\n",
        "  y = data[1]\n",
        "  net = [0] * num_output\n",
        "  for i in range(num_output):\n",
        "    for j in range(num_input):\n",
        "      net[i] += (x[j] * weight[i][j] + bias)\n",
        "  return softmax(net)\n",
        "\n",
        "# MSE\n",
        "def calc_loss(y, y_pred):\n",
        "  #print(y)\n",
        "  #print(y_pred)\n",
        "  return ((y-y_pred)**2).mean()\n",
        "\n",
        "# gradient of MSE dJ/dw = 1/N 2x (w*x - y)\n",
        "def calc_gradient(x, y, y_pred):\n",
        "  grad_list = []\n",
        "  for i in range(len(y)):\n",
        "    grad_list.append((np.dot(2*x, y_pred[i] - y[i])).mean())\n",
        "  return grad_list\n",
        "\n",
        "#print(\"prediction before training : \", forward(10))\n",
        "\n",
        "for epoch in range(5):\n",
        "  BATCH_SIZE = 20 # without replacement\n",
        "  grad_list_batch = [0]*num_output\n",
        "  num_iter=0\n",
        "  for data in tqdm(train):\n",
        "    num_iter+=1\n",
        "    x, y = data[0], data[1]\n",
        "    y_pred = forward(x, y)\n",
        "    #print(sum(y_pred))\n",
        "    loss = calc_loss(y, y_pred)\n",
        "\n",
        "    grad = calc_gradient(x, y, y_pred)\n",
        "\n",
        "    grad_list_batch = [sum(x) for x in zip(grad_list_batch, grad)]\n",
        "\n",
        "    if(num_iter%BATCH_SIZE==0):\n",
        "      grad_list_batch = [x/BATCH_SIZE for x in grad_list_batch]\n",
        "      for i in range(num_output):\n",
        "        for j in range(num_input):\n",
        "          weight[i][j]-=(learning_rate*grad_list_batch[i])\n",
        "      grad_list_batch = [0]*num_output\n",
        "\n",
        "  print(\"epoch : \", epoch, \"loss : \", loss)"
      ],
      "execution_count": 0,
      "outputs": [
        {
          "output_type": "stream",
          "text": [
            "  8%|▊         | 5009/60000 [02:16<24:25, 37.51it/s]"
          ],
          "name": "stderr"
        }
      ]
    }
  ]
}