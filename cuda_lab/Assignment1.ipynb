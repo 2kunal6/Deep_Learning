{
  "nbformat": 4,
  "nbformat_minor": 0,
  "metadata": {
    "colab": {
      "name": "Assignment1.ipynb",
      "provenance": [],
      "collapsed_sections": [],
      "authorship_tag": "ABX9TyOfbhqvw/WZhpjTKa0JmP2a",
      "include_colab_link": true
    },
    "kernelspec": {
      "name": "python3",
      "display_name": "Python 3"
    }
  },
  "cells": [
    {
      "cell_type": "markdown",
      "metadata": {
        "id": "view-in-github",
        "colab_type": "text"
      },
      "source": [
        "<a href=\"https://colab.research.google.com/github/2kunal6/UniBonn/blob/master/cuda_lab/Assignment1.ipynb\" target=\"_parent\"><img src=\"https://colab.research.google.com/assets/colab-badge.svg\" alt=\"Open In Colab\"/></a>"
      ]
    },
    {
      "cell_type": "code",
      "metadata": {
        "id": "TG7jhuOn3zeU",
        "colab_type": "code",
        "colab": {
          "base_uri": "https://localhost:8080/",
          "height": 68
        },
        "outputId": "af124362-7a17-4ac6-dc4c-ebd55584c91d"
      },
      "source": [
        "from torchvision import datasets\n",
        "import numpy as np\n",
        "\n",
        "train_mnist = datasets.MNIST(\"\", train=True, transform=transforms.ToTensor(), download=True)\n",
        "\n",
        "test_mnist = datasets.MNIST(\"\", train=False, transform=transforms.ToTensor(), download=True)\n",
        "\n",
        "train = []\n",
        "test = []\n",
        "for data in train_mnist:\n",
        "  train.append([data[0].view(28*28).numpy(), np.eye(10)[data[1]]])\n",
        "\n",
        "for data in test_mnist:\n",
        "  test.append([data[0].view(28*28).numpy(), np.eye(10)[data[1]]])\n",
        "\n",
        "\n",
        "print(type(train[0][0]))\n",
        "print(len(train))\n",
        "print(len(test))"
      ],
      "execution_count": 40,
      "outputs": [
        {
          "output_type": "stream",
          "text": [
            "<class 'numpy.ndarray'>\n",
            "60000\n",
            "10000\n"
          ],
          "name": "stdout"
        }
      ]
    }
  ]
}