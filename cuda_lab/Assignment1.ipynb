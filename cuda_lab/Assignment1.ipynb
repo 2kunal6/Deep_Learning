{
  "nbformat": 4,
  "nbformat_minor": 0,
  "metadata": {
    "colab": {
      "name": "Assignment1.ipynb",
      "provenance": [],
      "collapsed_sections": [],
      "authorship_tag": "ABX9TyPazHWTIFMp6XUXihr658IA",
      "include_colab_link": true
    },
    "kernelspec": {
      "name": "python3",
      "display_name": "Python 3"
    }
  },
  "cells": [
    {
      "cell_type": "markdown",
      "metadata": {
        "id": "view-in-github",
        "colab_type": "text"
      },
      "source": [
        "<a href=\"https://colab.research.google.com/github/2kunal6/UniBonn/blob/master/cuda_lab/Assignment1.ipynb\" target=\"_parent\"><img src=\"https://colab.research.google.com/assets/colab-badge.svg\" alt=\"Open In Colab\"/></a>"
      ]
    },
    {
      "cell_type": "code",
      "metadata": {
        "id": "TG7jhuOn3zeU",
        "colab_type": "code",
        "outputId": "a9ad3b66-b932-4793-8e04-fd305d8fb467",
        "colab": {
          "base_uri": "https://localhost:8080/",
          "height": 68
        }
      },
      "source": [
        "from torchvision import datasets, transforms\n",
        "import numpy as np\n",
        "from tqdm import tqdm\n",
        "\n",
        "train_mnist = datasets.MNIST(\"\", train=True, transform=transforms.ToTensor(), download=True)\n",
        "\n",
        "test_mnist = datasets.MNIST(\"\", train=False, transform=transforms.ToTensor(), download=True)\n",
        "\n",
        "train = []\n",
        "test = []\n",
        "for data in train_mnist:\n",
        "  train.append([data[0].view(28*28).numpy(), np.eye(10)[data[1]]])\n",
        "\n",
        "for data in test_mnist:\n",
        "  test.append([data[0].view(28*28).numpy(), np.eye(10)[data[1]]])\n",
        "\n",
        "\n",
        "print(len(train))\n",
        "print(len(test))\n",
        "print(len(train[0][0]), type(train[0][0]))"
      ],
      "execution_count": 17,
      "outputs": [
        {
          "output_type": "stream",
          "text": [
            "60000\n",
            "10000\n",
            "784 <class 'numpy.ndarray'>\n"
          ],
          "name": "stdout"
        }
      ]
    },
    {
      "cell_type": "code",
      "metadata": {
        "id": "RaHrF1YEIXSQ",
        "colab_type": "code",
        "colab": {}
      },
      "source": [
        "np.random.seed(1)\n",
        "num_input = 784\n",
        "num_output = 10\n",
        "weight = np.random.random((num_output, num_input))\n",
        "bias = 0.0\n",
        "\n",
        "def softmax(x):\n",
        "    \"\"\"Compute softmax values for each sets of scores in x.\"\"\"\n",
        "    e_x = np.exp(x - np.max(x))\n",
        "    return e_x / e_x.sum()\n",
        "\n",
        "def forward(x, y):\n",
        "  x = data[0]\n",
        "  y = data[1]\n",
        "  net = [0] * num_output\n",
        "  for i in range(num_output):\n",
        "    for j in range(num_input):\n",
        "      net[i] += (x[j] * weight[i][j] + bias)\n",
        "  return softmax(net)\n",
        "\n",
        "# MSE\n",
        "def calc_loss(y, y_pred):\n",
        "  #print(y)\n",
        "  #print(y_pred)\n",
        "  return ((y-y_pred)**2).mean()\n",
        "\n",
        "# gradient of MSE dJ/dw = 1/N 2x (w*x - y)\n",
        "def calc_gradient(x, y, y_pred):\n",
        "  grad_list = []\n",
        "  for i in range(len(y)):\n",
        "    grad_list.append((np.dot(2*x, y_pred[i] - y[i])))\n",
        "  return grad_list\n",
        "\n",
        "#print(\"prediction before training : \", forward(10))\n",
        "\n",
        "learning_rate = 0.01\n",
        "\n",
        "for epoch in range(15):\n",
        "  BATCH_SIZE = 20 # without replacement\n",
        "  grad_list_batch = [0]*num_output\n",
        "  for data in train:\n",
        "    x, y = data[0], data[1]\n",
        "    y_pred = forward(x, y)\n",
        "    #print(sum(y_pred))\n",
        "    loss = calc_loss(y, y_pred)\n",
        "\n",
        "    grad = calc_gradient(x, y, y_pred)\n",
        "    grad_list_batch+=grad\n",
        "    #print(grad_list_batch)\n",
        "    break\n",
        "  break\n",
        "  w -= learning_rate * grad\n",
        "\n",
        "  print(\"epoch : \", epoch, \"weight : \", w, \"loss : \", loss)"
      ],
      "execution_count": 0,
      "outputs": []
    }
  ]
}