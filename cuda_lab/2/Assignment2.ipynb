{
  "nbformat": 4,
  "nbformat_minor": 0,
  "metadata": {
    "colab": {
      "name": "Assignment2.ipynb",
      "provenance": [],
      "collapsed_sections": [],
      "include_colab_link": true
    },
    "kernelspec": {
      "name": "python3",
      "display_name": "Python 3"
    },
    "accelerator": "GPU"
  },
  "cells": [
    {
      "cell_type": "markdown",
      "metadata": {
        "id": "view-in-github",
        "colab_type": "text"
      },
      "source": [
        "<a href=\"https://colab.research.google.com/github/2kunal6/UniBonn/blob/master/cuda_lab/2/Assignment2.ipynb\" target=\"_parent\"><img src=\"https://colab.research.google.com/assets/colab-badge.svg\" alt=\"Open In Colab\"/></a>"
      ]
    },
    {
      "cell_type": "code",
      "metadata": {
        "id": "Eaf9IZKR0EN4",
        "colab_type": "code",
        "outputId": "1103a635-c420-4bf3-c2d6-eeb0c7693ca6",
        "colab": {
          "base_uri": "https://localhost:8080/",
          "height": 878
        }
      },
      "source": [
        "import torch\n",
        "import torchvision\n",
        "from torchvision import datasets, transforms\n",
        "import torch.nn as nn\n",
        "import torch.nn.functional as F\n",
        "import torch.optim\n",
        "\n",
        "import matplotlib.pyplot as plt\n",
        "\n",
        "transform_list = transforms.Compose([\n",
        "            transforms.Grayscale(num_output_channels=1),\n",
        "            transforms.ToTensor()\n",
        "            #transforms.Normalize([0.5,],[0.5,])\n",
        "        ])\n",
        "train = torch.utils.data.DataLoader(\n",
        "    datasets.CIFAR10(\"./sample_data\", train=True, transform=transform_list, download=True), batch_size = 32, shuffle = True\n",
        ")\n",
        "\n",
        "test = torch.utils.data.DataLoader(\n",
        "    datasets.CIFAR10(\"./sample_data\", train=False, transform=transform_list, download=True), batch_size = 32, shuffle = True\n",
        ")\n",
        "\n",
        "print(\"datasets loaded\")\n",
        "\n",
        "IMG_SIZE = 32*32\n",
        "\n",
        "for data in train:\n",
        "  X, y = data[0], data[1]\n",
        "  plt.imshow(X[0].reshape(32, 32))\n",
        "  print(\"Label: \" + str(y[0]))\n",
        "  break\n",
        "\n",
        "class LogisticRegression(nn.Module):\n",
        "  def __init__(self, input_dim, output_dim):\n",
        "    super(LogisticRegression, self).__init__()\n",
        "    self.linear = torch.nn.Linear(input_dim, output_dim)\n",
        "\n",
        "  def forward(self, x):\n",
        "    return self.linear(x)\n",
        "\n",
        "if torch.cuda.is_available():\n",
        "    device = torch.device(\"cuda:0\")  # you can continue going on here, like cuda:1 cuda:2....etc. \n",
        "    print(\"Running on the GPU\")\n",
        "else:\n",
        "    device = torch.device(\"cpu\")\n",
        "    print(\"Running on the CPU\")\n",
        "\n",
        "model = LogisticRegression(IMG_SIZE, 10).to(device)\n",
        "\n",
        "optimizer = torch.optim.Adam(model.parameters(), lr=0.01)\n",
        "\n",
        "for epoch in range(30):\n",
        "  for data in train:\n",
        "    X, y = data[0].to(device), data[1].to(device)\n",
        "    optimizer.zero_grad()\n",
        "    output = model(X.view(-1, IMG_SIZE))\n",
        "    loss = F.cross_entropy(output, y)\n",
        "    loss.backward()\n",
        "    optimizer.step()\n",
        "  print(f'epoch: {epoch}, loss: {loss}')\n",
        "\n",
        "total = 0\n",
        "correct = 0\n",
        "\n",
        "with torch.no_grad():\n",
        "  for data in test:\n",
        "    X, y = data[0].to(device), data[1].to(device)\n",
        "    output = model(X.view(-1, IMG_SIZE))\n",
        "    _, predicted = torch.max(output, 1)\n",
        "    total += y.size(0)\n",
        "    correct += (predicted == y).sum().item()\n",
        "\n",
        "print('Accuracy of the network on the 10000 test images: %d %%' % (\n",
        "    100 * correct / total))"
      ],
      "execution_count": 6,
      "outputs": [
        {
          "output_type": "stream",
          "text": [
            "Files already downloaded and verified\n",
            "Files already downloaded and verified\n",
            "datasets loaded\n",
            "Label: tensor(1)\n",
            "Running on the GPU\n",
            "epoch: 0, loss: 1.887580156326294\n",
            "epoch: 1, loss: 2.4950060844421387\n",
            "epoch: 2, loss: 2.731123685836792\n",
            "epoch: 3, loss: 2.2379496097564697\n",
            "epoch: 4, loss: 1.4692472219467163\n",
            "epoch: 5, loss: 3.2689218521118164\n",
            "epoch: 6, loss: 1.890285611152649\n",
            "epoch: 7, loss: 2.4835972785949707\n",
            "epoch: 8, loss: 2.075687885284424\n",
            "epoch: 9, loss: 3.258479118347168\n",
            "epoch: 10, loss: 2.1422836780548096\n",
            "epoch: 11, loss: 2.7232022285461426\n",
            "epoch: 12, loss: 2.457592248916626\n",
            "epoch: 13, loss: 2.355247974395752\n",
            "epoch: 14, loss: 2.2723591327667236\n",
            "epoch: 15, loss: 2.2374846935272217\n",
            "epoch: 16, loss: 2.0758721828460693\n",
            "epoch: 17, loss: 2.3343443870544434\n",
            "epoch: 18, loss: 2.0118603706359863\n",
            "epoch: 19, loss: 3.1726670265197754\n",
            "epoch: 20, loss: 2.7142763137817383\n",
            "epoch: 21, loss: 1.8780736923217773\n",
            "epoch: 22, loss: 2.1684839725494385\n",
            "epoch: 23, loss: 1.8131930828094482\n",
            "epoch: 24, loss: 1.7828783988952637\n",
            "epoch: 25, loss: 2.4306092262268066\n",
            "epoch: 26, loss: 1.444324016571045\n",
            "epoch: 27, loss: 3.069795608520508\n",
            "epoch: 28, loss: 2.243992805480957\n",
            "epoch: 29, loss: 2.4292821884155273\n",
            "Accuracy of the network on the 10000 test images: 18 %\n"
          ],
          "name": "stdout"
        },
        {
          "output_type": "display_data",
          "data": {
            "image/png": "[encoded data removed]",
            "text/plain": [
              "<Figure size 432x288 with 1 Axes>"
            ]
          },
          "metadata": {
            "tags": [],
            "needs_background": "light"
          }
        }
      ]
    }
  ]
}