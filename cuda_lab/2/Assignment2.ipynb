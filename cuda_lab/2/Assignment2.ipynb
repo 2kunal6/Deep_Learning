{
  "nbformat": 4,
  "nbformat_minor": 0,
  "metadata": {
    "colab": {
      "name": "Assignment2.ipynb",
      "provenance": [],
      "collapsed_sections": [],
      "include_colab_link": true
    },
    "kernelspec": {
      "name": "python3",
      "display_name": "Python 3"
    },
    "accelerator": "GPU"
  },
  "cells": [
    {
      "cell_type": "markdown",
      "metadata": {
        "id": "view-in-github",
        "colab_type": "text"
      },
      "source": [
        "<a href=\"https://colab.research.google.com/github/2kunal6/UniBonn/blob/master/cuda_lab/2/Assignment2.ipynb\" target=\"_parent\"><img src=\"https://colab.research.google.com/assets/colab-badge.svg\" alt=\"Open In Colab\"/></a>"
      ]
    },
    {
      "cell_type": "code",
      "metadata": {
        "id": "Eaf9IZKR0EN4",
        "colab_type": "code",
        "outputId": "18cabbf5-fd87-4495-b505-c737f329d379",
        "colab": {
          "base_uri": "https://localhost:8080/",
          "height": 659
        }
      },
      "source": [
        "import torch\n",
        "import torchvision\n",
        "from torchvision import datasets, transforms\n",
        "import torch.nn as nn\n",
        "import torch.nn.functional as F\n",
        "import torch.optim\n",
        "\n",
        "import matplotlib.pyplot as plt\n",
        "import numpy as np\n",
        "from sklearn.metrics import confusion_matrix\n",
        "from tqdm import tqdm\n",
        "\n",
        "np.random.seed(1)\n",
        "\n",
        "transform_list = transforms.Compose([\n",
        "            transforms.Grayscale(num_output_channels=1),\n",
        "            transforms.ToTensor()\n",
        "            #transforms.Normalize([0.5,],[0.5,])\n",
        "        ])\n",
        "train = datasets.CIFAR10(\"./\", train=True, transform=transform_list, download=True)\n",
        "\n",
        "test = torch.utils.data.DataLoader(\n",
        "    datasets.CIFAR10(\"./\", train=False, transform=transform_list, download=True), batch_size = 32, shuffle = True\n",
        ")\n",
        "\n",
        "print(\"datasets loaded\")\n",
        "\n",
        "IMG_SIZE = 32*32\n",
        "\n",
        "'''for data in train:\n",
        "  X, y = data[0][0], data[1][0]\n",
        "  plt.imshow(X.view(32, 32))\n",
        "  print(\"Label: \" + str(y))\n",
        "  plt.show()\n",
        "  break'''\n",
        "\n",
        "class LogisticRegression(nn.Module):\n",
        "  def __init__(self, input_dim, output_dim):\n",
        "    super(LogisticRegression, self).__init__()\n",
        "    self.linear1 = nn.Linear(input_dim, 300)\n",
        "    self.linear2 = nn.Linear(300, output_dim)\n",
        "    self.relu = nn.ReLU()\n",
        "\n",
        "  def forward(self, x):\n",
        "    out = self.relu(self.linear1(x))\n",
        "    out = self.linear2(out)\n",
        "    return out\n",
        "\n",
        "if torch.cuda.is_available():\n",
        "    device = torch.device(\"cuda:0\")  # you can continue going on here, like cuda:1 cuda:2....etc. \n",
        "    print(\"Running on the GPU\")\n",
        "else:\n",
        "    device = torch.device(\"cpu\")\n",
        "    print(\"Running on the CPU\")\n",
        "\n",
        "model = LogisticRegression(IMG_SIZE, 10).to(device)\n",
        "\n",
        "optimizer = torch.optim.Adam(model.parameters(), lr=0.01)\n",
        "\n",
        "criterion = nn.CrossEntropyLoss().to(device)\n",
        "\n",
        "def test_perform(test_data):\n",
        "  total = 0\n",
        "  correct = 0\n",
        "\n",
        "  y_true = []\n",
        "  y_pred = []\n",
        "\n",
        "  loss = 0.0\n",
        "  with torch.no_grad():\n",
        "    for data in test_data:\n",
        "      X, y = data[0].to(device), data[1].to(device)\n",
        "\n",
        "      output = model(X.view(-1, IMG_SIZE))\n",
        "      _, predicted = torch.max(output, 1)\n",
        "\n",
        "      loss += criterion(output, y)\n",
        "\n",
        "      total += y.size(0)\n",
        "      correct += (predicted == y).sum().item()\n",
        "\n",
        "      y_pred.extend(predicted.tolist())\n",
        "      y_true.extend(y.tolist())\n",
        "\n",
        "    accuracy = 100 * correct / total\n",
        "    return accuracy, y_true, y_pred, loss/(2.0 * total)\n",
        "\n",
        "BATCH_SIZE = 32\n",
        "\n",
        "loss_train = []\n",
        "loss_val = []\n",
        "iter_list = []\n",
        "iter_num = 0\n",
        "\n",
        "for epoch in range(2):\n",
        "  train_size = int(0.9 * len(train))\n",
        "  val_size = len(train) - train_size\n",
        "  train_dataset, val_dataset = torch.utils.data.random_split(train, [train_size, val_size])\n",
        "  train_loader = torch.utils.data.DataLoader(train_dataset,batch_size = BATCH_SIZE, shuffle = True)\n",
        "  val_loader = torch.utils.data.DataLoader(val_dataset, batch_size = BATCH_SIZE, shuffle = True)\n",
        "\n",
        "  for data in tqdm(train_loader):\n",
        "    X, y = data[0].to(device), data[1].to(device)\n",
        "    \n",
        "    optimizer.zero_grad()\n",
        "    \n",
        "    output = model(X.view(-1, IMG_SIZE))\n",
        "    \n",
        "    loss = criterion(output, y)\n",
        "    \n",
        "    loss.backward()\n",
        "    \n",
        "    optimizer.step()\n",
        "    \n",
        "    iter_num+=BATCH_SIZE\n",
        "\n",
        "    if(iter_num%(BATCH_SIZE*100) == 0):\n",
        "      _, _, _, val_loss = test_perform(val_loader)\n",
        "\n",
        "      iter_list.append(iter_num)\n",
        "      loss_train.append(loss)\n",
        "      loss_val.append(val_loss)\n",
        "\n",
        "    \n",
        "  print(f'epoch: {epoch}, loss: {loss}')\n",
        "\n",
        "plt.plot(iter_list, loss_train)\n",
        "plt.plot(iter_list, loss_val)\n",
        "plt.show()\n",
        "\n",
        "    \n",
        "accuracy, y_true, y_pred, _ = test_perform(test)\n",
        "\n",
        "print(confusion_matrix(y_true, y_pred))\n",
        "print(f'Accuracy of the network on the 10000 test images: {accuracy}')"
      ],
      "execution_count": 16,
      "outputs": [
        {
          "output_type": "stream",
          "text": [
            "Files already downloaded and verified\n",
            "Files already downloaded and verified\n"
          ],
          "name": "stdout"
        },
        {
          "output_type": "stream",
          "text": [
            "  1%|          | 14/1407 [00:00<00:10, 135.49it/s]"
          ],
          "name": "stderr"
        },
        {
          "output_type": "stream",
          "text": [
            "datasets loaded\n",
            "Running on the GPU\n"
          ],
          "name": "stdout"
        },
        {
          "output_type": "stream",
          "text": [
            "100%|██████████| 1407/1407 [00:21<00:00, 65.26it/s]\n",
            "  1%|          | 16/1407 [00:00<00:09, 152.30it/s]"
          ],
          "name": "stderr"
        },
        {
          "output_type": "stream",
          "text": [
            "epoch: 0, loss: 2.443737030029297\n"
          ],
          "name": "stdout"
        },
        {
          "output_type": "stream",
          "text": [
            "100%|██████████| 1407/1407 [00:21<00:00, 65.71it/s]\n"
          ],
          "name": "stderr"
        },
        {
          "output_type": "stream",
          "text": [
            "epoch: 1, loss: 1.754233717918396\n",
            "[3200, 6400, 9600, 12800, 16000, 19200, 22400, 25600, 28800, 32000, 35200, 38400, 41600, 44800, 48000, 51200, 54400, 57600, 60800, 64000, 67200, 70400, 73600, 76800, 80000, 83200, 86400, 89600]\n",
            "[tensor(2.1917, device='cuda:0', grad_fn=<NllLossBackward>), tensor(2.2518, device='cuda:0', grad_fn=<NllLossBackward>), tensor(2.0074, device='cuda:0', grad_fn=<NllLossBackward>), tensor(1.9739, device='cuda:0', grad_fn=<NllLossBackward>), tensor(1.9502, device='cuda:0', grad_fn=<NllLossBackward>), tensor(2.1483, device='cuda:0', grad_fn=<NllLossBackward>), tensor(2.0281, device='cuda:0', grad_fn=<NllLossBackward>), tensor(2.1716, device='cuda:0', grad_fn=<NllLossBackward>), tensor(1.8889, device='cuda:0', grad_fn=<NllLossBackward>), tensor(1.9466, device='cuda:0', grad_fn=<NllLossBackward>), tensor(2.1439, device='cuda:0', grad_fn=<NllLossBackward>), tensor(2.0548, device='cuda:0', grad_fn=<NllLossBackward>), tensor(2.1712, device='cuda:0', grad_fn=<NllLossBackward>), tensor(2.1327, device='cuda:0', grad_fn=<NllLossBackward>), tensor(2.1164, device='cuda:0', grad_fn=<NllLossBackward>), tensor(1.9889, device='cuda:0', grad_fn=<NllLossBackward>), tensor(2.2029, device='cuda:0', grad_fn=<NllLossBackward>), tensor(2.0366, device='cuda:0', grad_fn=<NllLossBackward>), tensor(2.1703, device='cuda:0', grad_fn=<NllLossBackward>), tensor(2.0533, device='cuda:0', grad_fn=<NllLossBackward>), tensor(2.0709, device='cuda:0', grad_fn=<NllLossBackward>), tensor(2.1510, device='cuda:0', grad_fn=<NllLossBackward>), tensor(2.1682, device='cuda:0', grad_fn=<NllLossBackward>), tensor(2.4381, device='cuda:0', grad_fn=<NllLossBackward>), tensor(2.1675, device='cuda:0', grad_fn=<NllLossBackward>), tensor(1.9988, device='cuda:0', grad_fn=<NllLossBackward>), tensor(2.1384, device='cuda:0', grad_fn=<NllLossBackward>), tensor(2.3746, device='cuda:0', grad_fn=<NllLossBackward>)]\n",
            "[tensor(0.0351, device='cuda:0'), tensor(0.0348, device='cuda:0'), tensor(0.0335, device='cuda:0'), tensor(0.0329, device='cuda:0'), tensor(0.0327, device='cuda:0'), tensor(0.0331, device='cuda:0'), tensor(0.0325, device='cuda:0'), tensor(0.0328, device='cuda:0'), tensor(0.0324, device='cuda:0'), tensor(0.0331, device='cuda:0'), tensor(0.0327, device='cuda:0'), tensor(0.0332, device='cuda:0'), tensor(0.0328, device='cuda:0'), tensor(0.0332, device='cuda:0'), tensor(0.0329, device='cuda:0'), tensor(0.0325, device='cuda:0'), tensor(0.0329, device='cuda:0'), tensor(0.0326, device='cuda:0'), tensor(0.0331, device='cuda:0'), tensor(0.0332, device='cuda:0'), tensor(0.0327, device='cuda:0'), tensor(0.0330, device='cuda:0'), tensor(0.0328, device='cuda:0'), tensor(0.0331, device='cuda:0'), tensor(0.0340, device='cuda:0'), tensor(0.0334, device='cuda:0'), tensor(0.0327, device='cuda:0'), tensor(0.0329, device='cuda:0')]\n"
          ],
          "name": "stdout"
        },
        {
          "output_type": "display_data",
          "data": {
            "image/png": "[encoded data removed]",
            "text/plain": [
              "<Figure size 432x288 with 1 Axes>"
            ]
          },
          "metadata": {
            "tags": [],
            "needs_background": "light"
          }
        },
        {
          "output_type": "stream",
          "text": [
            "[[103  41 228   3 219  55  99   2  90 160]\n",
            " [  9  91  24   4  73  47 151   3  43 555]\n",
            " [ 53  48 178  10 286 151 174   2  27  71]\n",
            " [ 15  59  86  11 162 289 226   2  40 110]\n",
            " [ 25  37 102   4 294 171 267   3  34  63]\n",
            " [ 16  46  93  11 152 406 168   2  49  57]\n",
            " [  9 121  47  22 176 176 321   1  12 115]\n",
            " [ 34  32 139   7 278 112 206   1  55 136]\n",
            " [ 70  36  57   5  76 151  51   1 195 358]\n",
            " [ 17  65  24   2  66  30 122   0  60 614]]\n",
            "Accuracy of the network on the 10000 test images: 22.14\n"
          ],
          "name": "stdout"
        }
      ]
    }
  ]
}