{
  "nbformat": 4,
  "nbformat_minor": 0,
  "metadata": {
    "colab": {
      "name": "Assignment2.ipynb",
      "provenance": [],
      "collapsed_sections": [],
      "include_colab_link": true
    },
    "kernelspec": {
      "name": "python3",
      "display_name": "Python 3"
    },
    "accelerator": "GPU"
  },
  "cells": [
    {
      "cell_type": "markdown",
      "metadata": {
        "id": "view-in-github",
        "colab_type": "text"
      },
      "source": [
        "<a href=\"https://colab.research.google.com/github/2kunal6/UniBonn/blob/master/cuda_lab/2/Assignment2.ipynb\" target=\"_parent\"><img src=\"https://colab.research.google.com/assets/colab-badge.svg\" alt=\"Open In Colab\"/></a>"
      ]
    },
    {
      "cell_type": "code",
      "metadata": {
        "id": "Eaf9IZKR0EN4",
        "colab_type": "code",
        "outputId": "05f4ea02-32a3-411d-e868-87f1ef0200e0",
        "colab": {
          "base_uri": "https://localhost:8080/",
          "height": 1000
        }
      },
      "source": [
        "import torch\n",
        "import torchvision\n",
        "from torchvision import datasets, transforms\n",
        "import torch.nn as nn\n",
        "import torch.nn.functional as F\n",
        "import torch.optim\n",
        "\n",
        "import matplotlib.pyplot as plt\n",
        "import numpy as np\n",
        "from sklearn.metrics import confusion_matrix\n",
        "from tqdm import tqdm\n",
        "\n",
        "np.random.seed(1)\n",
        "\n",
        "transform_list = transforms.Compose([\n",
        "            transforms.Grayscale(num_output_channels=1),\n",
        "            transforms.ToTensor()\n",
        "            #transforms.Normalize([0.5,],[0.5,])\n",
        "        ])\n",
        "train = datasets.CIFAR10(\"./\", train=True, transform=transform_list, download=True)\n",
        "\n",
        "test = torch.utils.data.DataLoader(\n",
        "    datasets.CIFAR10(\"./\", train=False, transform=transform_list, download=True), batch_size = 32, shuffle = True\n",
        ")\n",
        "\n",
        "print(\"datasets loaded\")\n",
        "\n",
        "IMG_SIZE = 32*32\n",
        "\n",
        "'''for data in train:\n",
        "  X, y = data[0][0], data[1][0]\n",
        "  plt.imshow(X.view(32, 32))\n",
        "  print(\"Label: \" + str(y))\n",
        "  plt.show()\n",
        "  break'''\n",
        "\n",
        "class LogisticRegression(nn.Module):\n",
        "  def __init__(self, input_dim, output_dim):\n",
        "    super(LogisticRegression, self).__init__()\n",
        "    self.linear1 = nn.Linear(input_dim, 300)\n",
        "    self.linear2 = nn.Linear(300, output_dim)\n",
        "    self.relu = nn.ReLU()\n",
        "\n",
        "  def forward(self, x):\n",
        "    out = self.relu(self.linear1(x))\n",
        "    out = self.linear2(out)\n",
        "    return out\n",
        "\n",
        "if torch.cuda.is_available():\n",
        "    device = torch.device(\"cuda:0\")  # you can continue going on here, like cuda:1 cuda:2....etc. \n",
        "    print(\"Running on the GPU\")\n",
        "else:\n",
        "    device = torch.device(\"cpu\")\n",
        "    print(\"Running on the CPU\")\n",
        "\n",
        "model = LogisticRegression(IMG_SIZE, 10).to(device)\n",
        "\n",
        "optimizer = torch.optim.Adam(model.parameters(), lr=0.001)\n",
        "\n",
        "criterion = nn.CrossEntropyLoss().to(device)\n",
        "\n",
        "def test_perform(test_data):\n",
        "  total = 0\n",
        "  correct = 0\n",
        "\n",
        "  y_true = []\n",
        "  y_pred = []\n",
        "\n",
        "  loss = 0.0\n",
        "  i=0\n",
        "  with torch.no_grad():\n",
        "    for data in test_data:\n",
        "      X, y = data[0].to(device), data[1].to(device)\n",
        "\n",
        "      output = model(X.view(-1, IMG_SIZE))\n",
        "      _, predicted = torch.max(output, 1)\n",
        "\n",
        "      loss += criterion(output, y)\n",
        "\n",
        "      total += y.size(0)\n",
        "      correct += (predicted == y).sum().item()\n",
        "\n",
        "      y_pred.extend(predicted.tolist())\n",
        "      y_true.extend(y.tolist())\n",
        "\n",
        "      i+=1\n",
        "\n",
        "    accuracy = 100 * correct / total\n",
        "    return accuracy, y_true, y_pred, loss/i\n",
        "\n",
        "BATCH_SIZE = 32\n",
        "\n",
        "loss_train = []\n",
        "loss_val = []\n",
        "iter_list = []\n",
        "iter_num = 0\n",
        "\n",
        "for epoch in range(20):\n",
        "  train_size = int(0.9 * len(train))\n",
        "  val_size = len(train) - train_size\n",
        "  train_dataset, val_dataset = torch.utils.data.random_split(train, [train_size, val_size])\n",
        "  train_loader = torch.utils.data.DataLoader(train_dataset,batch_size = BATCH_SIZE, shuffle = True)\n",
        "  val_loader = torch.utils.data.DataLoader(val_dataset, batch_size = BATCH_SIZE, shuffle = True)\n",
        "\n",
        "  for data in tqdm(train_loader):\n",
        "    X, y = data[0].to(device), data[1].to(device)\n",
        "    \n",
        "    optimizer.zero_grad()\n",
        "    \n",
        "    output = model(X.view(-1, IMG_SIZE))\n",
        "    \n",
        "    loss = criterion(output, y)\n",
        "    \n",
        "    loss.backward()\n",
        "    \n",
        "    optimizer.step()\n",
        "    \n",
        "    iter_num+=BATCH_SIZE\n",
        "\n",
        "    if(iter_num%(BATCH_SIZE*100) == 0):\n",
        "      _, _, _, val_loss = test_perform(val_loader)\n",
        "\n",
        "      iter_list.append(iter_num)\n",
        "      loss_train.append(loss)\n",
        "      loss_val.append(val_loss)\n",
        "\n",
        "    \n",
        "  print(f'epoch: {epoch}, loss: {loss}')\n",
        "\n",
        "plt.plot(iter_list, loss_train)\n",
        "plt.plot(iter_list, loss_val)\n",
        "plt.show()\n",
        "\n",
        "    \n",
        "accuracy, y_true, y_pred, _ = test_perform(test)\n",
        "\n",
        "print(confusion_matrix(y_true, y_pred))\n",
        "print(f'Accuracy of the network on the 10000 test images: {accuracy}')"
      ],
      "execution_count": 20,
      "outputs": [
        {
          "output_type": "stream",
          "text": [
            "Files already downloaded and verified\n",
            "Files already downloaded and verified\n"
          ],
          "name": "stdout"
        },
        {
          "output_type": "stream",
          "text": [
            "  1%|          | 15/1407 [00:00<00:09, 147.53it/s]"
          ],
          "name": "stderr"
        },
        {
          "output_type": "stream",
          "text": [
            "datasets loaded\n",
            "Running on the GPU\n"
          ],
          "name": "stdout"
        },
        {
          "output_type": "stream",
          "text": [
            "100%|██████████| 1407/1407 [00:21<00:00, 65.39it/s]\n",
            "  1%|          | 14/1407 [00:00<00:10, 136.38it/s]"
          ],
          "name": "stderr"
        },
        {
          "output_type": "stream",
          "text": [
            "epoch: 0, loss: 1.9944283962249756\n"
          ],
          "name": "stdout"
        },
        {
          "output_type": "stream",
          "text": [
            "100%|██████████| 1407/1407 [00:21<00:00, 64.85it/s]\n",
            "  1%|          | 15/1407 [00:00<00:09, 148.68it/s]"
          ],
          "name": "stderr"
        },
        {
          "output_type": "stream",
          "text": [
            "epoch: 1, loss: 1.9830219745635986\n"
          ],
          "name": "stdout"
        },
        {
          "output_type": "stream",
          "text": [
            "100%|██████████| 1407/1407 [00:21<00:00, 64.85it/s]\n",
            "  1%|          | 15/1407 [00:00<00:09, 144.51it/s]"
          ],
          "name": "stderr"
        },
        {
          "output_type": "stream",
          "text": [
            "epoch: 2, loss: 1.7489298582077026\n"
          ],
          "name": "stdout"
        },
        {
          "output_type": "stream",
          "text": [
            "100%|██████████| 1407/1407 [00:21<00:00, 64.69it/s]\n",
            "  1%|          | 15/1407 [00:00<00:09, 146.02it/s]"
          ],
          "name": "stderr"
        },
        {
          "output_type": "stream",
          "text": [
            "epoch: 3, loss: 1.8318694829940796\n"
          ],
          "name": "stdout"
        },
        {
          "output_type": "stream",
          "text": [
            "100%|██████████| 1407/1407 [00:21<00:00, 64.87it/s]\n",
            "  1%|          | 14/1407 [00:00<00:10, 134.72it/s]"
          ],
          "name": "stderr"
        },
        {
          "output_type": "stream",
          "text": [
            "epoch: 4, loss: 2.188120126724243\n"
          ],
          "name": "stdout"
        },
        {
          "output_type": "stream",
          "text": [
            "100%|██████████| 1407/1407 [00:21<00:00, 65.52it/s]\n",
            "  1%|          | 15/1407 [00:00<00:09, 146.17it/s]"
          ],
          "name": "stderr"
        },
        {
          "output_type": "stream",
          "text": [
            "epoch: 5, loss: 1.8983986377716064\n"
          ],
          "name": "stdout"
        },
        {
          "output_type": "stream",
          "text": [
            "100%|██████████| 1407/1407 [00:21<00:00, 64.84it/s]\n",
            "  1%|          | 14/1407 [00:00<00:10, 135.77it/s]"
          ],
          "name": "stderr"
        },
        {
          "output_type": "stream",
          "text": [
            "epoch: 6, loss: 1.4735448360443115\n"
          ],
          "name": "stdout"
        },
        {
          "output_type": "stream",
          "text": [
            "100%|██████████| 1407/1407 [00:21<00:00, 65.24it/s]\n",
            "  1%|          | 14/1407 [00:00<00:10, 138.21it/s]"
          ],
          "name": "stderr"
        },
        {
          "output_type": "stream",
          "text": [
            "epoch: 7, loss: 1.7980623245239258\n"
          ],
          "name": "stdout"
        },
        {
          "output_type": "stream",
          "text": [
            "100%|██████████| 1407/1407 [00:21<00:00, 65.52it/s]\n",
            "  1%|          | 14/1407 [00:00<00:10, 135.77it/s]"
          ],
          "name": "stderr"
        },
        {
          "output_type": "stream",
          "text": [
            "epoch: 8, loss: 2.0125982761383057\n"
          ],
          "name": "stdout"
        },
        {
          "output_type": "stream",
          "text": [
            "100%|██████████| 1407/1407 [00:21<00:00, 65.17it/s]\n",
            "  1%|          | 15/1407 [00:00<00:09, 142.22it/s]"
          ],
          "name": "stderr"
        },
        {
          "output_type": "stream",
          "text": [
            "epoch: 9, loss: 1.4063315391540527\n"
          ],
          "name": "stdout"
        },
        {
          "output_type": "stream",
          "text": [
            "100%|██████████| 1407/1407 [00:21<00:00, 64.85it/s]\n",
            "  1%|          | 14/1407 [00:00<00:09, 139.87it/s]"
          ],
          "name": "stderr"
        },
        {
          "output_type": "stream",
          "text": [
            "epoch: 10, loss: 1.078657865524292\n"
          ],
          "name": "stdout"
        },
        {
          "output_type": "stream",
          "text": [
            "100%|██████████| 1407/1407 [00:21<00:00, 65.08it/s]\n",
            "  1%|          | 14/1407 [00:00<00:10, 137.19it/s]"
          ],
          "name": "stderr"
        },
        {
          "output_type": "stream",
          "text": [
            "epoch: 11, loss: 1.3587735891342163\n"
          ],
          "name": "stdout"
        },
        {
          "output_type": "stream",
          "text": [
            "100%|██████████| 1407/1407 [00:21<00:00, 65.33it/s]\n",
            "  0%|          | 0/1407 [00:00<?, ?it/s]"
          ],
          "name": "stderr"
        },
        {
          "output_type": "stream",
          "text": [
            "epoch: 12, loss: 1.9667856693267822\n"
          ],
          "name": "stdout"
        },
        {
          "output_type": "stream",
          "text": [
            "100%|██████████| 1407/1407 [00:21<00:00, 65.16it/s] \n",
            "  0%|          | 0/1407 [00:00<?, ?it/s]"
          ],
          "name": "stderr"
        },
        {
          "output_type": "stream",
          "text": [
            "epoch: 13, loss: 1.5967007875442505\n"
          ],
          "name": "stdout"
        },
        {
          "output_type": "stream",
          "text": [
            "100%|██████████| 1407/1407 [00:22<00:00, 62.88it/s] \n",
            "  1%|          | 14/1407 [00:00<00:10, 134.56it/s]"
          ],
          "name": "stderr"
        },
        {
          "output_type": "stream",
          "text": [
            "epoch: 14, loss: 1.676146388053894\n"
          ],
          "name": "stdout"
        },
        {
          "output_type": "stream",
          "text": [
            "100%|██████████| 1407/1407 [00:21<00:00, 65.07it/s] \n",
            "  1%|          | 15/1407 [00:00<00:09, 145.99it/s]"
          ],
          "name": "stderr"
        },
        {
          "output_type": "stream",
          "text": [
            "epoch: 15, loss: 1.6525942087173462\n"
          ],
          "name": "stdout"
        },
        {
          "output_type": "stream",
          "text": [
            "100%|██████████| 1407/1407 [00:21<00:00, 64.84it/s]\n",
            "  1%|          | 15/1407 [00:00<00:09, 149.71it/s]"
          ],
          "name": "stderr"
        },
        {
          "output_type": "stream",
          "text": [
            "epoch: 16, loss: 1.190431833267212\n"
          ],
          "name": "stdout"
        },
        {
          "output_type": "stream",
          "text": [
            "100%|██████████| 1407/1407 [00:21<00:00, 65.17it/s]\n",
            "  1%|          | 14/1407 [00:00<00:10, 139.30it/s]"
          ],
          "name": "stderr"
        },
        {
          "output_type": "stream",
          "text": [
            "epoch: 17, loss: 1.873032569885254\n"
          ],
          "name": "stdout"
        },
        {
          "output_type": "stream",
          "text": [
            "100%|██████████| 1407/1407 [00:21<00:00, 65.25it/s]\n",
            "  1%|          | 15/1407 [00:00<00:09, 141.77it/s]"
          ],
          "name": "stderr"
        },
        {
          "output_type": "stream",
          "text": [
            "epoch: 18, loss: 1.871260643005371\n"
          ],
          "name": "stdout"
        },
        {
          "output_type": "stream",
          "text": [
            "100%|██████████| 1407/1407 [00:21<00:00, 65.36it/s]\n"
          ],
          "name": "stderr"
        },
        {
          "output_type": "stream",
          "text": [
            "epoch: 19, loss: 1.8035389184951782\n"
          ],
          "name": "stdout"
        },
        {
          "output_type": "display_data",
          "data": {
            "image/png": "[encoded data removed]",
            "text/plain": [
              "<Figure size 432x288 with 1 Axes>"
            ]
          },
          "metadata": {
            "tags": [],
            "needs_background": "light"
          }
        },
        {
          "output_type": "stream",
          "text": [
            "[[448  17  94  14  70  31  26  32 198  70]\n",
            " [ 62 370  10  25  24  14  33  22 143 297]\n",
            " [122  13 316  86 114 111  96  53  46  43]\n",
            " [ 64  11  87 209  67 241 117  56  47 101]\n",
            " [137   9 180  57 291  73  88  66  56  43]\n",
            " [ 63  11  84 128  63 418  53  81  47  52]\n",
            " [ 70  39  90  87 102 100 361  29  65  57]\n",
            " [ 71   9  75  59  85 101  41 417  54  88]\n",
            " [131  38  27  18  32  34  19  26 582  93]\n",
            " [ 39 108  19  37  18  26  31  39  95 588]]\n",
            "Accuracy of the network on the 10000 test images: 40.0\n"
          ],
          "name": "stdout"
        }
      ]
    }
  ]
}