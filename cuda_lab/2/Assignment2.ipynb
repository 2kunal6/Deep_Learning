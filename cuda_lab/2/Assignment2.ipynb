{
  "nbformat": 4,
  "nbformat_minor": 0,
  "metadata": {
    "colab": {
      "name": "Assignment2.ipynb",
      "provenance": [],
      "collapsed_sections": [],
      "include_colab_link": true
    },
    "kernelspec": {
      "name": "python3",
      "display_name": "Python 3"
    },
    "accelerator": "GPU"
  },
  "cells": [
    {
      "cell_type": "markdown",
      "metadata": {
        "id": "view-in-github",
        "colab_type": "text"
      },
      "source": [
        "<a href=\"https://colab.research.google.com/github/2kunal6/UniBonn/blob/master/cuda_lab/2/Assignment2.ipynb\" target=\"_parent\"><img src=\"https://colab.research.google.com/assets/colab-badge.svg\" alt=\"Open In Colab\"/></a>"
      ]
    },
    {
      "cell_type": "code",
      "metadata": {
        "id": "Eaf9IZKR0EN4",
        "colab_type": "code",
        "outputId": "f29494be-0c3f-42be-aff8-db2bd226a2c3",
        "colab": {
          "base_uri": "https://localhost:8080/",
          "height": 1000
        }
      },
      "source": [
        "import torch\n",
        "import torchvision\n",
        "from torchvision import datasets, transforms\n",
        "import torch.nn as nn\n",
        "import torch.nn.functional as F\n",
        "import torch.optim\n",
        "\n",
        "import matplotlib.pyplot as plt\n",
        "import numpy as np\n",
        "from sklearn.metrics import confusion_matrix\n",
        "from tqdm import tqdm\n",
        "\n",
        "np.random.seed(1)\n",
        "\n",
        "transform_list = transforms.Compose([\n",
        "            transforms.Grayscale(num_output_channels=1),\n",
        "            transforms.ToTensor()\n",
        "            #transforms.Normalize([0.5,],[0.5,])\n",
        "        ])\n",
        "train = datasets.CIFAR10(\"./\", train=True, transform=transform_list, download=True)\n",
        "\n",
        "test = torch.utils.data.DataLoader(\n",
        "    datasets.CIFAR10(\"./\", train=False, transform=transform_list, download=True), batch_size = 32, shuffle = True\n",
        ")\n",
        "\n",
        "print(\"datasets loaded\")\n",
        "\n",
        "IMG_SIZE = 32*32\n",
        "\n",
        "'''for data in train:\n",
        "  X, y = data[0][0], data[1][0]\n",
        "  plt.imshow(X.view(32, 32))\n",
        "  print(\"Label: \" + str(y))\n",
        "  plt.show()\n",
        "  break'''\n",
        "\n",
        "class LogisticRegression(nn.Module):\n",
        "  def __init__(self, input_dim, output_dim):\n",
        "    super(LogisticRegression, self).__init__()\n",
        "    self.linear1 = nn.Linear(input_dim, 300)\n",
        "    self.linear2 = nn.Linear(300, output_dim)\n",
        "    self.relu = nn.ReLU()\n",
        "\n",
        "  def forward(self, x):\n",
        "    out = self.relu(self.linear1(x))\n",
        "    out = self.linear2(out)\n",
        "    return out\n",
        "\n",
        "if torch.cuda.is_available():\n",
        "    device = torch.device(\"cuda:0\")  # you can continue going on here, like cuda:1 cuda:2....etc. \n",
        "    print(\"Running on the GPU\")\n",
        "else:\n",
        "    device = torch.device(\"cpu\")\n",
        "    print(\"Running on the CPU\")\n",
        "\n",
        "model = LogisticRegression(IMG_SIZE, 10).to(device)\n",
        "\n",
        "optimizer = torch.optim.Adam(model.parameters(), lr=0.001)\n",
        "\n",
        "criterion = nn.CrossEntropyLoss().to(device)\n",
        "\n",
        "def test_perform(test_data):\n",
        "  total = 0\n",
        "  correct = 0\n",
        "\n",
        "  y_true = []\n",
        "  y_pred = []\n",
        "\n",
        "  loss = 0.0\n",
        "  i=0\n",
        "  with torch.no_grad():\n",
        "    for data in test_data:\n",
        "      X, y = data[0].to(device), data[1].to(device)\n",
        "\n",
        "      output = model(X.view(-1, IMG_SIZE))\n",
        "      _, predicted = torch.max(output, 1)\n",
        "\n",
        "      loss += criterion(output, y)\n",
        "\n",
        "      total += y.size(0)\n",
        "      correct += (predicted == y).sum().item()\n",
        "\n",
        "      y_pred.extend(predicted.tolist())\n",
        "      y_true.extend(y.tolist())\n",
        "\n",
        "      i+=1\n",
        "\n",
        "    accuracy = 100 * correct / total\n",
        "    return accuracy, y_true, y_pred, loss/i\n",
        "\n",
        "BATCH_SIZE = 32\n",
        "\n",
        "loss_train = []\n",
        "loss_val = []\n",
        "iter_list = []\n",
        "iter_num = 0\n",
        "\n",
        "for epoch in range(50):\n",
        "  train_size = int(0.9 * len(train))\n",
        "  val_size = len(train) - train_size\n",
        "  train_dataset, val_dataset = torch.utils.data.random_split(train, [train_size, val_size])\n",
        "  train_loader = torch.utils.data.DataLoader(train_dataset,batch_size = BATCH_SIZE, shuffle = True)\n",
        "  val_loader = torch.utils.data.DataLoader(val_dataset, batch_size = BATCH_SIZE, shuffle = True)\n",
        "\n",
        "  for data in tqdm(train_loader):\n",
        "    X, y = data[0].to(device), data[1].to(device)\n",
        "    \n",
        "    optimizer.zero_grad()\n",
        "    \n",
        "    output = model(X.view(-1, IMG_SIZE))\n",
        "    \n",
        "    loss = criterion(output, y)\n",
        "    \n",
        "    loss.backward()\n",
        "    \n",
        "    optimizer.step()\n",
        "    \n",
        "    iter_num+=BATCH_SIZE\n",
        "\n",
        "    if(iter_num%(BATCH_SIZE*100) == 0):\n",
        "      _, _, _, val_loss = test_perform(val_loader)\n",
        "\n",
        "      iter_list.append(iter_num)\n",
        "      loss_train.append(loss)\n",
        "      loss_val.append(val_loss)\n",
        "\n",
        "    \n",
        "  print(f'epoch: {epoch}, loss: {loss}')\n",
        "\n",
        "plt.plot(iter_list, loss_train)\n",
        "plt.plot(iter_list, loss_val)\n",
        "plt.show()\n",
        "\n",
        "    \n",
        "accuracy, y_true, y_pred, _ = test_perform(test)\n",
        "\n",
        "print(confusion_matrix(y_true, y_pred))\n",
        "print(f'Accuracy of the network on the 10000 test images: {accuracy}')\n",
        "\n",
        "norm_list = []\n",
        "for x in model.parameters():\n",
        "  print(x.grad.cpu().norm(1).tolist())\n",
        "  norm_list.append(x.grad.cpu().norm(1).tolist())\n",
        "\n",
        "plt.plot(norm_list)\n",
        "plt.show()"
      ],
      "execution_count": 4,
      "outputs": [
        {
          "output_type": "stream",
          "text": [
            "Files already downloaded and verified\n",
            "Files already downloaded and verified\n"
          ],
          "name": "stdout"
        },
        {
          "output_type": "stream",
          "text": [
            "  2%|▏         | 24/1407 [00:00<00:05, 239.72it/s]"
          ],
          "name": "stderr"
        },
        {
          "output_type": "stream",
          "text": [
            "datasets loaded\n",
            "Running on the GPU\n"
          ],
          "name": "stdout"
        },
        {
          "output_type": "stream",
          "text": [
            "100%|██████████| 1407/1407 [00:12<00:00, 109.70it/s]\n",
            "  2%|▏         | 24/1407 [00:00<00:05, 231.62it/s]"
          ],
          "name": "stderr"
        },
        {
          "output_type": "stream",
          "text": [
            "epoch: 0, loss: 1.7683279514312744\n"
          ],
          "name": "stdout"
        },
        {
          "output_type": "stream",
          "text": [
            "100%|██████████| 1407/1407 [00:12<00:00, 108.97it/s]\n",
            "  2%|▏         | 25/1407 [00:00<00:05, 246.64it/s]"
          ],
          "name": "stderr"
        },
        {
          "output_type": "stream",
          "text": [
            "epoch: 1, loss: 1.6435163021087646\n"
          ],
          "name": "stdout"
        },
        {
          "output_type": "stream",
          "text": [
            "100%|██████████| 1407/1407 [00:12<00:00, 108.81it/s]\n",
            "  2%|▏         | 25/1407 [00:00<00:05, 241.20it/s]"
          ],
          "name": "stderr"
        },
        {
          "output_type": "stream",
          "text": [
            "epoch: 2, loss: 1.4912505149841309\n"
          ],
          "name": "stdout"
        },
        {
          "output_type": "stream",
          "text": [
            "100%|██████████| 1407/1407 [00:12<00:00, 108.40it/s]\n",
            "  2%|▏         | 26/1407 [00:00<00:05, 250.75it/s]"
          ],
          "name": "stderr"
        },
        {
          "output_type": "stream",
          "text": [
            "epoch: 3, loss: 1.704237699508667\n"
          ],
          "name": "stdout"
        },
        {
          "output_type": "stream",
          "text": [
            "100%|██████████| 1407/1407 [00:12<00:00, 109.16it/s]\n",
            "  2%|▏         | 23/1407 [00:00<00:06, 229.18it/s]"
          ],
          "name": "stderr"
        },
        {
          "output_type": "stream",
          "text": [
            "epoch: 4, loss: 1.6841944456100464\n"
          ],
          "name": "stdout"
        },
        {
          "output_type": "stream",
          "text": [
            "100%|██████████| 1407/1407 [00:12<00:00, 109.34it/s]\n",
            "  2%|▏         | 26/1407 [00:00<00:05, 250.99it/s]"
          ],
          "name": "stderr"
        },
        {
          "output_type": "stream",
          "text": [
            "epoch: 5, loss: 1.1908494234085083\n"
          ],
          "name": "stdout"
        },
        {
          "output_type": "stream",
          "text": [
            "100%|██████████| 1407/1407 [00:12<00:00, 109.57it/s]\n",
            "  2%|▏         | 25/1407 [00:00<00:05, 241.54it/s]"
          ],
          "name": "stderr"
        },
        {
          "output_type": "stream",
          "text": [
            "epoch: 6, loss: 1.6211148500442505\n"
          ],
          "name": "stdout"
        },
        {
          "output_type": "stream",
          "text": [
            "100%|██████████| 1407/1407 [00:12<00:00, 110.29it/s]\n",
            "  2%|▏         | 25/1407 [00:00<00:05, 248.47it/s]"
          ],
          "name": "stderr"
        },
        {
          "output_type": "stream",
          "text": [
            "epoch: 7, loss: 1.348543405532837\n"
          ],
          "name": "stdout"
        },
        {
          "output_type": "stream",
          "text": [
            "100%|██████████| 1407/1407 [00:12<00:00, 109.76it/s]\n",
            "  2%|▏         | 25/1407 [00:00<00:05, 248.41it/s]"
          ],
          "name": "stderr"
        },
        {
          "output_type": "stream",
          "text": [
            "epoch: 8, loss: 1.6079516410827637\n"
          ],
          "name": "stdout"
        },
        {
          "output_type": "stream",
          "text": [
            "100%|██████████| 1407/1407 [00:13<00:00, 107.73it/s]\n",
            "  2%|▏         | 25/1407 [00:00<00:05, 242.53it/s]"
          ],
          "name": "stderr"
        },
        {
          "output_type": "stream",
          "text": [
            "epoch: 9, loss: 1.7204729318618774\n"
          ],
          "name": "stdout"
        },
        {
          "output_type": "stream",
          "text": [
            "100%|██████████| 1407/1407 [00:12<00:00, 109.55it/s]\n",
            "  0%|          | 0/1407 [00:00<?, ?it/s]"
          ],
          "name": "stderr"
        },
        {
          "output_type": "stream",
          "text": [
            "epoch: 10, loss: 1.1341910362243652\n"
          ],
          "name": "stdout"
        },
        {
          "output_type": "stream",
          "text": [
            "100%|██████████| 1407/1407 [00:12<00:00, 110.05it/s]\n",
            "  0%|          | 0/1407 [00:00<?, ?it/s]"
          ],
          "name": "stderr"
        },
        {
          "output_type": "stream",
          "text": [
            "epoch: 11, loss: 1.6463814973831177\n"
          ],
          "name": "stdout"
        },
        {
          "output_type": "stream",
          "text": [
            "100%|██████████| 1407/1407 [00:12<00:00, 110.22it/s]\n",
            "  0%|          | 0/1407 [00:00<?, ?it/s]"
          ],
          "name": "stderr"
        },
        {
          "output_type": "stream",
          "text": [
            "epoch: 12, loss: 1.654850959777832\n"
          ],
          "name": "stdout"
        },
        {
          "output_type": "stream",
          "text": [
            "100%|██████████| 1407/1407 [00:12<00:00, 108.24it/s]\n",
            "  0%|          | 0/1407 [00:00<?, ?it/s]"
          ],
          "name": "stderr"
        },
        {
          "output_type": "stream",
          "text": [
            "epoch: 13, loss: 1.3862693309783936\n"
          ],
          "name": "stdout"
        },
        {
          "output_type": "stream",
          "text": [
            "100%|██████████| 1407/1407 [00:13<00:00, 105.42it/s]\n",
            "  2%|▏         | 25/1407 [00:00<00:05, 244.00it/s]"
          ],
          "name": "stderr"
        },
        {
          "output_type": "stream",
          "text": [
            "epoch: 14, loss: 1.5691996812820435\n"
          ],
          "name": "stdout"
        },
        {
          "output_type": "stream",
          "text": [
            "100%|██████████| 1407/1407 [00:13<00:00, 107.73it/s]\n",
            "  2%|▏         | 25/1407 [00:00<00:05, 248.37it/s]"
          ],
          "name": "stderr"
        },
        {
          "output_type": "stream",
          "text": [
            "epoch: 15, loss: 1.3380064964294434\n"
          ],
          "name": "stdout"
        },
        {
          "output_type": "stream",
          "text": [
            "100%|██████████| 1407/1407 [00:12<00:00, 110.19it/s]\n",
            "  2%|▏         | 26/1407 [00:00<00:05, 251.05it/s]"
          ],
          "name": "stderr"
        },
        {
          "output_type": "stream",
          "text": [
            "epoch: 16, loss: 1.5255569219589233\n"
          ],
          "name": "stdout"
        },
        {
          "output_type": "stream",
          "text": [
            "100%|██████████| 1407/1407 [00:12<00:00, 109.86it/s]\n",
            "  2%|▏         | 26/1407 [00:00<00:05, 253.14it/s]"
          ],
          "name": "stderr"
        },
        {
          "output_type": "stream",
          "text": [
            "epoch: 17, loss: 1.597461462020874\n"
          ],
          "name": "stdout"
        },
        {
          "output_type": "stream",
          "text": [
            "100%|██████████| 1407/1407 [00:12<00:00, 110.01it/s]\n",
            "  2%|▏         | 23/1407 [00:00<00:06, 227.89it/s]"
          ],
          "name": "stderr"
        },
        {
          "output_type": "stream",
          "text": [
            "epoch: 18, loss: 1.300989031791687\n"
          ],
          "name": "stdout"
        },
        {
          "output_type": "stream",
          "text": [
            "100%|██████████| 1407/1407 [00:13<00:00, 107.96it/s]\n",
            "  2%|▏         | 25/1407 [00:00<00:05, 245.88it/s]"
          ],
          "name": "stderr"
        },
        {
          "output_type": "stream",
          "text": [
            "epoch: 19, loss: 1.807641625404358\n"
          ],
          "name": "stdout"
        },
        {
          "output_type": "stream",
          "text": [
            "100%|██████████| 1407/1407 [00:12<00:00, 109.79it/s]\n",
            "  2%|▏         | 25/1407 [00:00<00:05, 245.51it/s]"
          ],
          "name": "stderr"
        },
        {
          "output_type": "stream",
          "text": [
            "epoch: 20, loss: 1.1186509132385254\n"
          ],
          "name": "stdout"
        },
        {
          "output_type": "stream",
          "text": [
            "100%|██████████| 1407/1407 [00:12<00:00, 108.45it/s]\n",
            "  2%|▏         | 25/1407 [00:00<00:05, 241.88it/s]"
          ],
          "name": "stderr"
        },
        {
          "output_type": "stream",
          "text": [
            "epoch: 21, loss: 1.5502517223358154\n"
          ],
          "name": "stdout"
        },
        {
          "output_type": "stream",
          "text": [
            "100%|██████████| 1407/1407 [00:12<00:00, 109.27it/s]\n",
            "  2%|▏         | 23/1407 [00:00<00:06, 224.79it/s]"
          ],
          "name": "stderr"
        },
        {
          "output_type": "stream",
          "text": [
            "epoch: 22, loss: 1.1348155736923218\n"
          ],
          "name": "stdout"
        },
        {
          "output_type": "stream",
          "text": [
            "100%|██████████| 1407/1407 [00:12<00:00, 109.98it/s]\n",
            "  2%|▏         | 24/1407 [00:00<00:05, 236.13it/s]"
          ],
          "name": "stderr"
        },
        {
          "output_type": "stream",
          "text": [
            "epoch: 23, loss: 1.4123345613479614\n"
          ],
          "name": "stdout"
        },
        {
          "output_type": "stream",
          "text": [
            "100%|██████████| 1407/1407 [00:12<00:00, 108.98it/s]\n",
            "  0%|          | 0/1407 [00:00<?, ?it/s]"
          ],
          "name": "stderr"
        },
        {
          "output_type": "stream",
          "text": [
            "epoch: 24, loss: 1.5511115789413452\n"
          ],
          "name": "stdout"
        },
        {
          "output_type": "stream",
          "text": [
            "100%|██████████| 1407/1407 [00:12<00:00, 109.02it/s]\n",
            "  0%|          | 0/1407 [00:00<?, ?it/s]"
          ],
          "name": "stderr"
        },
        {
          "output_type": "stream",
          "text": [
            "epoch: 25, loss: 1.6745779514312744\n"
          ],
          "name": "stdout"
        },
        {
          "output_type": "stream",
          "text": [
            "100%|██████████| 1407/1407 [00:13<00:00, 107.56it/s]\n",
            "  0%|          | 0/1407 [00:00<?, ?it/s]"
          ],
          "name": "stderr"
        },
        {
          "output_type": "stream",
          "text": [
            "epoch: 26, loss: 1.0299259424209595\n"
          ],
          "name": "stdout"
        },
        {
          "output_type": "stream",
          "text": [
            "100%|██████████| 1407/1407 [00:12<00:00, 109.14it/s]\n",
            "  0%|          | 0/1407 [00:00<?, ?it/s]"
          ],
          "name": "stderr"
        },
        {
          "output_type": "stream",
          "text": [
            "epoch: 27, loss: 1.956735610961914\n"
          ],
          "name": "stdout"
        },
        {
          "output_type": "stream",
          "text": [
            "100%|██████████| 1407/1407 [00:13<00:00, 104.56it/s]\n",
            "  1%|▏         | 20/1407 [00:00<00:06, 199.96it/s]"
          ],
          "name": "stderr"
        },
        {
          "output_type": "stream",
          "text": [
            "epoch: 28, loss: 1.5080757141113281\n"
          ],
          "name": "stdout"
        },
        {
          "output_type": "stream",
          "text": [
            "100%|██████████| 1407/1407 [00:12<00:00, 109.05it/s]\n",
            "  2%|▏         | 25/1407 [00:00<00:05, 241.92it/s]"
          ],
          "name": "stderr"
        },
        {
          "output_type": "stream",
          "text": [
            "epoch: 29, loss: 1.4111738204956055\n"
          ],
          "name": "stdout"
        },
        {
          "output_type": "stream",
          "text": [
            "100%|██████████| 1407/1407 [00:12<00:00, 110.37it/s]\n",
            "  2%|▏         | 25/1407 [00:00<00:05, 249.42it/s]"
          ],
          "name": "stderr"
        },
        {
          "output_type": "stream",
          "text": [
            "epoch: 30, loss: 2.0692355632781982\n"
          ],
          "name": "stdout"
        },
        {
          "output_type": "stream",
          "text": [
            "100%|██████████| 1407/1407 [00:12<00:00, 109.50it/s]\n",
            "  2%|▏         | 24/1407 [00:00<00:05, 233.92it/s]"
          ],
          "name": "stderr"
        },
        {
          "output_type": "stream",
          "text": [
            "epoch: 31, loss: 1.7468162775039673\n"
          ],
          "name": "stdout"
        },
        {
          "output_type": "stream",
          "text": [
            "100%|██████████| 1407/1407 [00:12<00:00, 109.72it/s]\n",
            "  2%|▏         | 24/1407 [00:00<00:05, 232.08it/s]"
          ],
          "name": "stderr"
        },
        {
          "output_type": "stream",
          "text": [
            "epoch: 32, loss: 1.398453950881958\n"
          ],
          "name": "stdout"
        },
        {
          "output_type": "stream",
          "text": [
            "100%|██████████| 1407/1407 [00:13<00:00, 106.85it/s]\n",
            "  2%|▏         | 24/1407 [00:00<00:05, 233.87it/s]"
          ],
          "name": "stderr"
        },
        {
          "output_type": "stream",
          "text": [
            "epoch: 33, loss: 1.6050821542739868\n"
          ],
          "name": "stdout"
        },
        {
          "output_type": "stream",
          "text": [
            "100%|██████████| 1407/1407 [00:12<00:00, 108.76it/s]\n",
            "  2%|▏         | 25/1407 [00:00<00:05, 246.52it/s]"
          ],
          "name": "stderr"
        },
        {
          "output_type": "stream",
          "text": [
            "epoch: 34, loss: 1.904160737991333\n"
          ],
          "name": "stdout"
        },
        {
          "output_type": "stream",
          "text": [
            "100%|██████████| 1407/1407 [00:12<00:00, 109.34it/s]\n",
            "  2%|▏         | 25/1407 [00:00<00:05, 243.26it/s]"
          ],
          "name": "stderr"
        },
        {
          "output_type": "stream",
          "text": [
            "epoch: 35, loss: 1.4610238075256348\n"
          ],
          "name": "stdout"
        },
        {
          "output_type": "stream",
          "text": [
            "100%|██████████| 1407/1407 [00:12<00:00, 108.31it/s]\n",
            "  2%|▏         | 24/1407 [00:00<00:05, 239.83it/s]"
          ],
          "name": "stderr"
        },
        {
          "output_type": "stream",
          "text": [
            "epoch: 36, loss: 1.8545031547546387\n"
          ],
          "name": "stdout"
        },
        {
          "output_type": "stream",
          "text": [
            "100%|██████████| 1407/1407 [00:13<00:00, 107.36it/s]\n",
            "  2%|▏         | 26/1407 [00:00<00:05, 250.43it/s]"
          ],
          "name": "stderr"
        },
        {
          "output_type": "stream",
          "text": [
            "epoch: 37, loss: 1.8423222303390503\n"
          ],
          "name": "stdout"
        },
        {
          "output_type": "stream",
          "text": [
            "100%|██████████| 1407/1407 [00:12<00:00, 108.95it/s]\n",
            "  2%|▏         | 25/1407 [00:00<00:05, 243.93it/s]"
          ],
          "name": "stderr"
        },
        {
          "output_type": "stream",
          "text": [
            "epoch: 38, loss: 2.1875901222229004\n"
          ],
          "name": "stdout"
        },
        {
          "output_type": "stream",
          "text": [
            "100%|██████████| 1407/1407 [00:12<00:00, 109.71it/s]\n",
            "  0%|          | 0/1407 [00:00<?, ?it/s]"
          ],
          "name": "stderr"
        },
        {
          "output_type": "stream",
          "text": [
            "epoch: 39, loss: 1.6619796752929688\n"
          ],
          "name": "stdout"
        },
        {
          "output_type": "stream",
          "text": [
            "100%|██████████| 1407/1407 [00:13<00:00, 107.45it/s]\n",
            "  0%|          | 0/1407 [00:00<?, ?it/s]"
          ],
          "name": "stderr"
        },
        {
          "output_type": "stream",
          "text": [
            "epoch: 40, loss: 1.4143211841583252\n"
          ],
          "name": "stdout"
        },
        {
          "output_type": "stream",
          "text": [
            "100%|██████████| 1407/1407 [00:12<00:00, 108.79it/s]\n",
            "  0%|          | 0/1407 [00:00<?, ?it/s]"
          ],
          "name": "stderr"
        },
        {
          "output_type": "stream",
          "text": [
            "epoch: 41, loss: 1.4805800914764404\n"
          ],
          "name": "stdout"
        },
        {
          "output_type": "stream",
          "text": [
            "100%|██████████| 1407/1407 [00:13<00:00, 104.95it/s]\n",
            "  2%|▏         | 25/1407 [00:00<00:05, 241.86it/s]"
          ],
          "name": "stderr"
        },
        {
          "output_type": "stream",
          "text": [
            "epoch: 42, loss: 1.437488317489624\n"
          ],
          "name": "stdout"
        },
        {
          "output_type": "stream",
          "text": [
            "100%|██████████| 1407/1407 [00:13<00:00, 107.94it/s]\n",
            "  2%|▏         | 25/1407 [00:00<00:05, 249.44it/s]"
          ],
          "name": "stderr"
        },
        {
          "output_type": "stream",
          "text": [
            "epoch: 43, loss: 1.2349824905395508\n"
          ],
          "name": "stdout"
        },
        {
          "output_type": "stream",
          "text": [
            "100%|██████████| 1407/1407 [00:12<00:00, 110.26it/s]\n",
            "  2%|▏         | 26/1407 [00:00<00:05, 251.71it/s]"
          ],
          "name": "stderr"
        },
        {
          "output_type": "stream",
          "text": [
            "epoch: 44, loss: 1.7825382947921753\n"
          ],
          "name": "stdout"
        },
        {
          "output_type": "stream",
          "text": [
            "100%|██████████| 1407/1407 [00:12<00:00, 109.60it/s]\n",
            "  2%|▏         | 25/1407 [00:00<00:05, 249.24it/s]"
          ],
          "name": "stderr"
        },
        {
          "output_type": "stream",
          "text": [
            "epoch: 45, loss: 1.4465712308883667\n"
          ],
          "name": "stdout"
        },
        {
          "output_type": "stream",
          "text": [
            "100%|██████████| 1407/1407 [00:12<00:00, 108.93it/s]\n",
            "  2%|▏         | 25/1407 [00:00<00:05, 243.98it/s]"
          ],
          "name": "stderr"
        },
        {
          "output_type": "stream",
          "text": [
            "epoch: 46, loss: 2.6737353801727295\n"
          ],
          "name": "stdout"
        },
        {
          "output_type": "stream",
          "text": [
            "100%|██████████| 1407/1407 [00:12<00:00, 108.73it/s]\n",
            "  2%|▏         | 24/1407 [00:00<00:05, 232.28it/s]"
          ],
          "name": "stderr"
        },
        {
          "output_type": "stream",
          "text": [
            "epoch: 47, loss: 1.8268413543701172\n"
          ],
          "name": "stdout"
        },
        {
          "output_type": "stream",
          "text": [
            "100%|██████████| 1407/1407 [00:13<00:00, 107.98it/s]\n",
            "  2%|▏         | 25/1407 [00:00<00:05, 247.29it/s]"
          ],
          "name": "stderr"
        },
        {
          "output_type": "stream",
          "text": [
            "epoch: 48, loss: 1.8211109638214111\n"
          ],
          "name": "stdout"
        },
        {
          "output_type": "stream",
          "text": [
            "100%|██████████| 1407/1407 [00:12<00:00, 109.27it/s]\n"
          ],
          "name": "stderr"
        },
        {
          "output_type": "stream",
          "text": [
            "epoch: 49, loss: 0.9696065783500671\n"
          ],
          "name": "stdout"
        },
        {
          "output_type": "display_data",
          "data": {
            "image/png": "[encoded data removed]",
            "text/plain": [
              "<Figure size 432x288 with 1 Axes>"
            ]
          },
          "metadata": {
            "tags": [],
            "needs_background": "light"
          }
        },
        {
          "output_type": "stream",
          "text": [
            "[[611  50  38  13  64  19  32  46  95  32]\n",
            " [ 93 539   8  11  22  11  41  38  78 159]\n",
            " [201  30 221  62 141  99  97 106  22  21]\n",
            " [ 91  59  72 170  82 193 144 102  21  66]\n",
            " [203  24 119  25 304  58 111 111  28  17]\n",
            " [ 96  19  60 120  60 372  75 138  24  36]\n",
            " [100  68  57  67  97  62 425  63  26  35]\n",
            " [ 88  32  41  37  66  65  59 543  22  47]\n",
            " [270 102  12  17  31  27  24  42 423  52]\n",
            " [ 73 230  13  33  14  18  37  65  76 441]]\n",
            "Accuracy of the network on the 10000 test images: 40.49\n",
            "217.79421997070312\n",
            "0.5112331509590149\n",
            "35.02997589111328\n",
            "0.47953903675079346\n"
          ],
          "name": "stdout"
        },
        {
          "output_type": "display_data",
          "data": {
            "image/png": "[encoded data removed]",
            "text/plain": [
              "<Figure size 432x288 with 1 Axes>"
            ]
          },
          "metadata": {
            "tags": [],
            "needs_background": "light"
          }
        }
      ]
    }
  ]
}