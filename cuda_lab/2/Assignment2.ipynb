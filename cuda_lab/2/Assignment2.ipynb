{
  "nbformat": 4,
  "nbformat_minor": 0,
  "metadata": {
    "colab": {
      "name": "Assignment2.ipynb",
      "provenance": [],
      "collapsed_sections": [],
      "include_colab_link": true
    },
    "kernelspec": {
      "name": "python3",
      "display_name": "Python 3"
    },
    "accelerator": "GPU"
  },
  "cells": [
    {
      "cell_type": "markdown",
      "metadata": {
        "id": "view-in-github",
        "colab_type": "text"
      },
      "source": [
        "<a href=\"https://colab.research.google.com/github/2kunal6/UniBonn/blob/master/cuda_lab/2/Assignment2.ipynb\" target=\"_parent\"><img src=\"https://colab.research.google.com/assets/colab-badge.svg\" alt=\"Open In Colab\"/></a>"
      ]
    },
    {
      "cell_type": "code",
      "metadata": {
        "id": "Eaf9IZKR0EN4",
        "colab_type": "code",
        "outputId": "d1b03366-b1aa-4439-df7b-46fd801f56bb",
        "colab": {
          "base_uri": "https://localhost:8080/",
          "height": 588
        }
      },
      "source": [
        "import torch\n",
        "import torchvision\n",
        "from torchvision import datasets, transforms\n",
        "import torch.nn as nn\n",
        "import torch.nn.functional as F\n",
        "import torch.optim\n",
        "\n",
        "import matplotlib.pyplot as plt\n",
        "import numpy as np\n",
        "from sklearn.metrics import confusion_matrix\n",
        "from tqdm import tqdm\n",
        "\n",
        "np.random.seed(1)\n",
        "\n",
        "transform_list = transforms.Compose([\n",
        "            transforms.Grayscale(num_output_channels=1),\n",
        "            transforms.ToTensor()\n",
        "            #transforms.Normalize([0.5,],[0.5,])\n",
        "        ])\n",
        "train = datasets.CIFAR10(\"./\", train=True, transform=transform_list, download=True)\n",
        "\n",
        "test = torch.utils.data.DataLoader(\n",
        "    datasets.CIFAR10(\"./\", train=False, transform=transform_list, download=True), batch_size = 32, shuffle = True\n",
        ")\n",
        "\n",
        "print(\"datasets loaded\")\n",
        "\n",
        "IMG_SIZE = 32*32\n",
        "\n",
        "'''for data in train:\n",
        "  X, y = data[0][0], data[1][0]\n",
        "  plt.imshow(X.view(32, 32))\n",
        "  print(\"Label: \" + str(y))\n",
        "  plt.show()\n",
        "  break'''\n",
        "\n",
        "class LogisticRegression(nn.Module):\n",
        "  def __init__(self, input_dim, output_dim):\n",
        "    super(LogisticRegression, self).__init__()\n",
        "    self.linear1 = nn.Linear(input_dim, 300)\n",
        "    self.linear2 = nn.Linear(300, output_dim)\n",
        "    self.relu = nn.ReLU()\n",
        "\n",
        "  def forward(self, x):\n",
        "    out = self.relu(self.linear1(x))\n",
        "    out = self.linear2(out)\n",
        "    return out\n",
        "\n",
        "if torch.cuda.is_available():\n",
        "    device = torch.device(\"cuda:0\")  # you can continue going on here, like cuda:1 cuda:2....etc. \n",
        "    print(\"Running on the GPU\")\n",
        "else:\n",
        "    device = torch.device(\"cpu\")\n",
        "    print(\"Running on the CPU\")\n",
        "\n",
        "model = LogisticRegression(IMG_SIZE, 10).to(device)\n",
        "\n",
        "optimizer = torch.optim.Adam(model.parameters(), lr=0.01)\n",
        "\n",
        "criterion = nn.CrossEntropyLoss().to(device)\n",
        "\n",
        "def test_perform(test_data):\n",
        "  total = 0\n",
        "  correct = 0\n",
        "\n",
        "  y_true = []\n",
        "  y_pred = []\n",
        "\n",
        "  loss = 0.0\n",
        "  i=0\n",
        "  with torch.no_grad():\n",
        "    for data in test_data:\n",
        "      X, y = data[0].to(device), data[1].to(device)\n",
        "\n",
        "      output = model(X.view(-1, IMG_SIZE))\n",
        "      _, predicted = torch.max(output, 1)\n",
        "\n",
        "      loss += criterion(output, y)\n",
        "\n",
        "      total += y.size(0)\n",
        "      correct += (predicted == y).sum().item()\n",
        "\n",
        "      y_pred.extend(predicted.tolist())\n",
        "      y_true.extend(y.tolist())\n",
        "\n",
        "      i+=1\n",
        "\n",
        "    accuracy = 100 * correct / total\n",
        "    return accuracy, y_true, y_pred, loss/i\n",
        "\n",
        "BATCH_SIZE = 32\n",
        "\n",
        "loss_train = []\n",
        "loss_val = []\n",
        "iter_list = []\n",
        "iter_num = 0\n",
        "\n",
        "for epoch in range(2):\n",
        "  train_size = int(0.9 * len(train))\n",
        "  val_size = len(train) - train_size\n",
        "  train_dataset, val_dataset = torch.utils.data.random_split(train, [train_size, val_size])\n",
        "  train_loader = torch.utils.data.DataLoader(train_dataset,batch_size = BATCH_SIZE, shuffle = True)\n",
        "  val_loader = torch.utils.data.DataLoader(val_dataset, batch_size = BATCH_SIZE, shuffle = True)\n",
        "\n",
        "  for data in tqdm(train_loader):\n",
        "    X, y = data[0].to(device), data[1].to(device)\n",
        "    \n",
        "    optimizer.zero_grad()\n",
        "    \n",
        "    output = model(X.view(-1, IMG_SIZE))\n",
        "    \n",
        "    loss = criterion(output, y)\n",
        "    \n",
        "    loss.backward()\n",
        "    \n",
        "    optimizer.step()\n",
        "    \n",
        "    iter_num+=BATCH_SIZE\n",
        "\n",
        "    if(iter_num%(BATCH_SIZE*100) == 0):\n",
        "      _, _, _, val_loss = test_perform(val_loader)\n",
        "\n",
        "      iter_list.append(iter_num)\n",
        "      loss_train.append(loss)\n",
        "      loss_val.append(val_loss)\n",
        "\n",
        "    \n",
        "  print(f'epoch: {epoch}, loss: {loss}')\n",
        "\n",
        "plt.plot(iter_list, loss_train)\n",
        "plt.plot(iter_list, loss_val)\n",
        "plt.show()\n",
        "\n",
        "    \n",
        "accuracy, y_true, y_pred, _ = test_perform(test)\n",
        "\n",
        "print(confusion_matrix(y_true, y_pred))\n",
        "print(f'Accuracy of the network on the 10000 test images: {accuracy}')"
      ],
      "execution_count": 18,
      "outputs": [
        {
          "output_type": "stream",
          "text": [
            "Files already downloaded and verified\n",
            "Files already downloaded and verified\n"
          ],
          "name": "stdout"
        },
        {
          "output_type": "stream",
          "text": [
            "  1%|          | 15/1407 [00:00<00:09, 145.65it/s]"
          ],
          "name": "stderr"
        },
        {
          "output_type": "stream",
          "text": [
            "datasets loaded\n",
            "Running on the GPU\n"
          ],
          "name": "stdout"
        },
        {
          "output_type": "stream",
          "text": [
            "100%|██████████| 1407/1407 [00:21<00:00, 65.49it/s]\n",
            "  1%|          | 14/1407 [00:00<00:10, 134.00it/s]"
          ],
          "name": "stderr"
        },
        {
          "output_type": "stream",
          "text": [
            "epoch: 0, loss: 2.432069778442383\n"
          ],
          "name": "stdout"
        },
        {
          "output_type": "stream",
          "text": [
            "100%|██████████| 1407/1407 [00:21<00:00, 65.10it/s]"
          ],
          "name": "stderr"
        },
        {
          "output_type": "stream",
          "text": [
            "epoch: 1, loss: 2.1139557361602783\n"
          ],
          "name": "stdout"
        },
        {
          "output_type": "stream",
          "text": [
            "\n"
          ],
          "name": "stderr"
        },
        {
          "output_type": "display_data",
          "data": {
            "image/png": "[encoded data removed]",
            "text/plain": [
              "<Figure size 432x288 with 1 Axes>"
            ]
          },
          "metadata": {
            "tags": [],
            "needs_background": "light"
          }
        },
        {
          "output_type": "stream",
          "text": [
            "[[219   2 281   1  67  52   1  41  20 316]\n",
            " [100   9  60   6  14  42   4  23  94 648]\n",
            " [243   0 314   0  85 127   1  78  14 138]\n",
            " [182   1 216   0  37 302   2  63  13 184]\n",
            " [219   0 318   0  67 155   0  97   4 140]\n",
            " [153   1 198   5  28 409   0  71  13 122]\n",
            " [214   1 130   4  59 207   3 117  10 255]\n",
            " [202   0 322   0  45 114   1  58   6 252]\n",
            " [171   1 115   6  23 102   7  23  83 469]\n",
            " [ 91   6  45   2  22  26   1  11  42 754]]\n",
            "Accuracy of the network on the 10000 test images: 19.16\n"
          ],
          "name": "stdout"
        }
      ]
    }
  ]
}