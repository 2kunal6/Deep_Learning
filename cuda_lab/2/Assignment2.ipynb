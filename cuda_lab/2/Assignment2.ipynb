{
  "nbformat": 4,
  "nbformat_minor": 0,
  "metadata": {
    "colab": {
      "name": "Assignment2.ipynb",
      "provenance": [],
      "collapsed_sections": [],
      "include_colab_link": true
    },
    "kernelspec": {
      "name": "python3",
      "display_name": "Python 3"
    },
    "accelerator": "GPU"
  },
  "cells": [
    {
      "cell_type": "markdown",
      "metadata": {
        "id": "view-in-github",
        "colab_type": "text"
      },
      "source": [
        "<a href=\"https://colab.research.google.com/github/2kunal6/UniBonn/blob/master/cuda_lab/2/Assignment2.ipynb\" target=\"_parent\"><img src=\"https://colab.research.google.com/assets/colab-badge.svg\" alt=\"Open In Colab\"/></a>"
      ]
    },
    {
      "cell_type": "code",
      "metadata": {
        "id": "Eaf9IZKR0EN4",
        "colab_type": "code",
        "outputId": "8fb0ed37-9630-4809-8e65-4e0f8140f87d",
        "colab": {
          "base_uri": "https://localhost:8080/",
          "height": 572
        }
      },
      "source": [
        "import torch\n",
        "import torchvision\n",
        "from torchvision import datasets, transforms\n",
        "import torch.nn as nn\n",
        "import torch.nn.functional as F\n",
        "import torch.optim\n",
        "\n",
        "import matplotlib.pyplot as plt\n",
        "import numpy as np\n",
        "from sklearn.metrics import confusion_matrix\n",
        "\n",
        "np.random.seed(1)\n",
        "\n",
        "transform_list = transforms.Compose([\n",
        "            transforms.Grayscale(num_output_channels=1),\n",
        "            transforms.ToTensor()\n",
        "            #transforms.Normalize([0.5,],[0.5,])\n",
        "        ])\n",
        "train = torch.utils.data.DataLoader(\n",
        "    datasets.CIFAR10(\"./\", train=True, transform=transform_list, download=True), batch_size = 32, shuffle = True\n",
        ")\n",
        "\n",
        "test = torch.utils.data.DataLoader(\n",
        "    datasets.CIFAR10(\"./\", train=False, transform=transform_list, download=True), batch_size = 32, shuffle = True\n",
        ")\n",
        "\n",
        "print(\"datasets loaded\")\n",
        "\n",
        "IMG_SIZE = 32*32\n",
        "\n",
        "for data in train:\n",
        "  X, y = data[0][0], data[1][0]\n",
        "  plt.imshow(X.view(32, 32))\n",
        "  print(\"Label: \" + str(y))\n",
        "  plt.show()\n",
        "  break\n",
        "\n",
        "class LogisticRegression(nn.Module):\n",
        "  def __init__(self, input_dim, output_dim):\n",
        "    super(LogisticRegression, self).__init__()\n",
        "    self.linear = torch.nn.Linear(input_dim, output_dim)\n",
        "\n",
        "  def forward(self, x):\n",
        "    return self.linear(x)\n",
        "\n",
        "if torch.cuda.is_available():\n",
        "    device = torch.device(\"cuda:0\")  # you can continue going on here, like cuda:1 cuda:2....etc. \n",
        "    print(\"Running on the GPU\")\n",
        "else:\n",
        "    device = torch.device(\"cpu\")\n",
        "    print(\"Running on the CPU\")\n",
        "\n",
        "model = LogisticRegression(IMG_SIZE, 10).to(device)\n",
        "\n",
        "optimizer = torch.optim.Adam(model.parameters(), lr=0.01)\n",
        "\n",
        "\n",
        "\n",
        "for epoch in range(2):\n",
        "  for data in train:\n",
        "    X, y = data[0].to(device), data[1].to(device)\n",
        "    optimizer.zero_grad()\n",
        "    output = model(X.view(-1, IMG_SIZE))\n",
        "    loss = F.cross_entropy(output, y)\n",
        "    loss.backward()\n",
        "    optimizer.step()\n",
        "  print(f'epoch: {epoch}, loss: {loss}')\n",
        "\n",
        "def test_perform():\n",
        "  total = 0\n",
        "  correct = 0\n",
        "\n",
        "  y_true = []\n",
        "  y_pred = []\n",
        "  with torch.no_grad():\n",
        "    for data in test:\n",
        "      X, y = data[0].to(device), data[1].to(device)\n",
        "\n",
        "      output = model(X.view(-1, IMG_SIZE))\n",
        "      _, predicted = torch.max(output, 1)\n",
        "\n",
        "      total += y.size(0)\n",
        "      correct += (predicted == y).sum().item()\n",
        "\n",
        "      y_pred.extend(predicted.tolist())\n",
        "      y_true.extend(y.tolist())\n",
        "\n",
        "    accuracy = 100 * correct / total\n",
        "    return accuracy, y_true, y_pred\n",
        "    \n",
        "accuracy, y_true, y_pred = test_perform()\n",
        "\n",
        "print(confusion_matrix(y_true, y_pred))\n",
        "print(f'Accuracy of the network on the 10000 test images: {accuracy}')"
      ],
      "execution_count": 10,
      "outputs": [
        {
          "output_type": "stream",
          "text": [
            "Files already downloaded and verified\n",
            "Files already downloaded and verified\n",
            "datasets loaded\n",
            "Label: tensor(0)\n"
          ],
          "name": "stdout"
        },
        {
          "output_type": "display_data",
          "data": {
            "image/png": "[encoded data removed]",
            "text/plain": [
              "<Figure size 432x288 with 1 Axes>"
            ]
          },
          "metadata": {
            "tags": [],
            "needs_background": "light"
          }
        },
        {
          "output_type": "stream",
          "text": [
            "Running on the GPU\n",
            "epoch: 0, loss: 2.3555338382720947\n",
            "epoch: 1, loss: 3.050051212310791\n",
            "[[ 17 200  12   3   0 591  28   3   9 137]\n",
            " [  2 493  12  10   5 153  33   5   3 284]\n",
            " [  3 147  40  13   1 638  73   3   0  82]\n",
            " [  2 159  24  45   3 554  80   3   3 127]\n",
            " [  2 131  22   9  12 627  70   3   1 123]\n",
            " [  2 112  33  29   5 658  74   5   0  82]\n",
            " [  1 242   4  18   3 433 143   3   0 153]\n",
            " [  1 159  27  14   5 499  43  25   2 225]\n",
            " [  7 396  14   5   0 365  24   4   9 176]\n",
            " [  4 327  14   3   0 125  31   2   3 491]]\n",
            "Accuracy of the network on the 10000 test images: 19.33\n"
          ],
          "name": "stdout"
        }
      ]
    }
  ]
}